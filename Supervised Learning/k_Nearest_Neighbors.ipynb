{
  "nbformat": 4,
  "nbformat_minor": 0,
  "metadata": {
    "colab": {
      "name": "k-Nearest Neighbors.ipynb",
      "version": "0.3.2",
      "provenance": [],
      "collapsed_sections": [],
      "include_colab_link": true
    },
    "kernelspec": {
      "name": "python3",
      "display_name": "Python 3"
    }
  },
  "cells": [
    {
      "cell_type": "markdown",
      "metadata": {
        "id": "view-in-github",
        "colab_type": "text"
      },
      "source": [
        "<a href=\"https://colab.research.google.com/github/geniuschinchillas/ChinchillasSnack/blob/master/Supervised%20Learning/k_Nearest_Neighbors.ipynb\" target=\"_parent\"><img src=\"https://colab.research.google.com/assets/colab-badge.svg\" alt=\"Open In Colab\"/></a>"
      ]
    },
    {
      "cell_type": "code",
      "metadata": {
        "id": "DnyFTbwQejnT",
        "colab_type": "code",
        "colab": {}
      },
      "source": [
        "import pandas as pd\n",
        "import numpy as np\n",
        "import matplotlib.pyplot as plt\n",
        "import scipy.stats as stats\n",
        "import math\n",
        "from sklearn.datasets import samples_generator as sg"
      ],
      "execution_count": 0,
      "outputs": []
    },
    {
      "cell_type": "code",
      "metadata": {
        "id": "s_NpqqkWfQs5",
        "colab_type": "code",
        "colab": {}
      },
      "source": [
        "%matplotlib inline"
      ],
      "execution_count": 0,
      "outputs": []
    },
    {
      "cell_type": "code",
      "metadata": {
        "id": "l8mC6BSrfScv",
        "colab_type": "code",
        "colab": {}
      },
      "source": [
        "import mglearn"
      ],
      "execution_count": 0,
      "outputs": []
    },
    {
      "cell_type": "markdown",
      "metadata": {
        "id": "RoUVHQf1RFKn",
        "colab_type": "text"
      },
      "source": [
        "**k-Nearest Neighbors**"
      ]
    },
    {
      "cell_type": "code",
      "metadata": {
        "id": "5s5OUNw9fUK6",
        "colab_type": "code",
        "colab": {}
      },
      "source": [
        "from sklearn.model_selection import train_test_split"
      ],
      "execution_count": 0,
      "outputs": []
    },
    {
      "cell_type": "code",
      "metadata": {
        "id": "6sNBI7xtRMpZ",
        "colab_type": "code",
        "colab": {}
      },
      "source": [
        "from sklearn.neighbors import KNeighborsClassifier\n",
        "from sklearn.neighbors import KNeighborsRegressor"
      ],
      "execution_count": 0,
      "outputs": []
    },
    {
      "cell_type": "markdown",
      "metadata": {
        "id": "KZPWOvJTRSC7",
        "colab_type": "text"
      },
      "source": [
        "k-Neighbors classification"
      ]
    },
    {
      "cell_type": "code",
      "metadata": {
        "id": "Dj3IsbXuRPKA",
        "colab_type": "code",
        "colab": {}
      },
      "source": [
        "from sklearn.datasets.samples_generator import make_blobs"
      ],
      "execution_count": 0,
      "outputs": []
    },
    {
      "cell_type": "code",
      "metadata": {
        "id": "QE2LbJgJRVrY",
        "colab_type": "code",
        "colab": {}
      },
      "source": [
        "from sklearn.datasets.samples_generator import make_blobs"
      ],
      "execution_count": 0,
      "outputs": []
    },
    {
      "cell_type": "code",
      "metadata": {
        "id": "8XqkvgjMRXgP",
        "colab_type": "code",
        "colab": {}
      },
      "source": [
        "X, y = make_blobs(n_samples=200, centers=2, n_features=2, random_state=0)"
      ],
      "execution_count": 0,
      "outputs": []
    },
    {
      "cell_type": "code",
      "metadata": {
        "id": "lUhfGAQgRzCT",
        "colab_type": "code",
        "colab": {
          "base_uri": "https://localhost:8080/",
          "height": 34
        },
        "outputId": "ac90db38-2a21-4682-d917-719c6f24859c"
      },
      "source": [
        "print(X.shape)"
      ],
      "execution_count": 10,
      "outputs": [
        {
          "output_type": "stream",
          "text": [
            "(200, 2)\n"
          ],
          "name": "stdout"
        }
      ]
    },
    {
      "cell_type": "code",
      "metadata": {
        "id": "8_0lrrYgSy-j",
        "colab_type": "code",
        "colab": {
          "base_uri": "https://localhost:8080/",
          "height": 119
        },
        "outputId": "fc2e96e0-6748-477b-a55f-c7b09ffcf73e"
      },
      "source": [
        "print(y)"
      ],
      "execution_count": 11,
      "outputs": [
        {
          "output_type": "stream",
          "text": [
            "[1 1 1 1 0 0 0 0 1 0 1 1 0 0 1 0 1 1 1 1 1 0 0 0 0 0 1 0 1 1 0 1 1 1 0 0 1\n",
            " 1 0 0 0 1 1 0 0 1 0 1 0 1 1 0 0 0 1 0 0 0 1 1 1 1 0 0 0 1 1 1 0 0 1 0 1 1\n",
            " 1 1 1 1 0 1 0 1 0 0 1 0 0 1 1 1 0 0 0 0 1 1 1 0 0 1 0 1 0 0 0 0 0 0 1 0 1\n",
            " 0 0 0 0 1 1 1 1 1 0 1 0 1 1 1 0 1 1 0 1 0 0 1 0 0 0 1 1 1 0 1 0 0 1 0 0 0\n",
            " 1 1 1 0 0 0 1 0 0 1 1 1 1 0 0 1 1 1 0 0 0 0 1 1 1 0 1 0 0 0 1 1 1 0 1 0 0\n",
            " 0 1 1 1 0 1 0 1 1 1 1 0 0 0 0]\n"
          ],
          "name": "stdout"
        }
      ]
    },
    {
      "cell_type": "code",
      "metadata": {
        "id": "UtqNSXo2S0Yt",
        "colab_type": "code",
        "colab": {
          "base_uri": "https://localhost:8080/",
          "height": 286
        },
        "outputId": "212db399-2383-49a2-f03c-21bc67cc3576"
      },
      "source": [
        "plt.scatter(X[:,0], X[:,1])"
      ],
      "execution_count": 12,
      "outputs": [
        {
          "output_type": "execute_result",
          "data": {
            "text/plain": [
              "<matplotlib.collections.PathCollection at 0x7f77e824f940>"
            ]
          },
          "metadata": {
            "tags": []
          },
          "execution_count": 12
        },
        {
          "output_type": "display_data",
          "data": {
            "image/png": "[encoded data removed]",
            "text/plain": [
              "<Figure size 432x288 with 1 Axes>"
            ]
          },
          "metadata": {
            "tags": []
          }
        }
      ]
    },
    {
      "cell_type": "code",
      "metadata": {
        "id": "S4qTPi2RS4aM",
        "colab_type": "code",
        "colab": {}
      },
      "source": [
        "X_train, X_test, y_train, y_test = train_test_split(X, y, random_state=0)"
      ],
      "execution_count": 0,
      "outputs": []
    },
    {
      "cell_type": "code",
      "metadata": {
        "id": "U_8mMiUtS7TN",
        "colab_type": "code",
        "colab": {
          "base_uri": "https://localhost:8080/",
          "height": 68
        },
        "outputId": "1339ffad-bb80-4fd4-dc2c-465a3dcd42ae"
      },
      "source": [
        "clf = KNeighborsClassifier(n_neighbors=1)\n",
        "clf.fit(X_train, y_train)"
      ],
      "execution_count": 14,
      "outputs": [
        {
          "output_type": "execute_result",
          "data": {
            "text/plain": [
              "KNeighborsClassifier(algorithm='auto', leaf_size=30, metric='minkowski',\n",
              "           metric_params=None, n_jobs=None, n_neighbors=1, p=2,\n",
              "           weights='uniform')"
            ]
          },
          "metadata": {
            "tags": []
          },
          "execution_count": 14
        }
      ]
    },
    {
      "cell_type": "code",
      "metadata": {
        "id": "bicWfd_LS9WA",
        "colab_type": "code",
        "colab": {
          "base_uri": "https://localhost:8080/",
          "height": 51
        },
        "outputId": "4dc306b6-9ab8-4e3c-e915-3438608edf3a"
      },
      "source": [
        "print(\"Test set predictions: \", clf.predict(X_test))"
      ],
      "execution_count": 15,
      "outputs": [
        {
          "output_type": "stream",
          "text": [
            "Test set predictions:  [1 1 0 0 0 1 0 0 0 0 1 1 1 1 0 0 1 1 1 1 0 0 1 1 1 1 1 0 0 0 1 1 1 0 0 0 0\n",
            " 0 0 0 0 1 1 0 0 0 1 1 1 0]\n"
          ],
          "name": "stdout"
        }
      ]
    },
    {
      "cell_type": "code",
      "metadata": {
        "id": "kxMhtALHUS0f",
        "colab_type": "code",
        "colab": {
          "base_uri": "https://localhost:8080/",
          "height": 34
        },
        "outputId": "47f78cc4-9b01-4287-9e39-462bf144205d"
      },
      "source": [
        "print(\"Test set accuracy: {:.2f}\".format(clf.score(X_test, y_test)))"
      ],
      "execution_count": 16,
      "outputs": [
        {
          "output_type": "stream",
          "text": [
            "Test set accuracy: 0.98\n"
          ],
          "name": "stdout"
        }
      ]
    },
    {
      "cell_type": "code",
      "metadata": {
        "id": "nUiLK5FHUVKV",
        "colab_type": "code",
        "colab": {
          "base_uri": "https://localhost:8080/",
          "height": 119
        },
        "outputId": "eebcb1b4-115f-4817-cb33-f845239fc979"
      },
      "source": [
        "for n_neighbors in [1,3,5,7,9,11]:\n",
        "    clf = KNeighborsClassifier(n_neighbors=n_neighbors).fit(X_train, y_train)\n",
        "    print(\"Test set accuracy: {:.2f}\".format(clf.score(X_test, y_test)))"
      ],
      "execution_count": 17,
      "outputs": [
        {
          "output_type": "stream",
          "text": [
            "Test set accuracy: 0.98\n",
            "Test set accuracy: 0.96\n",
            "Test set accuracy: 0.96\n",
            "Test set accuracy: 0.94\n",
            "Test set accuracy: 0.96\n",
            "Test set accuracy: 0.94\n"
          ],
          "name": "stdout"
        }
      ]
    },
    {
      "cell_type": "code",
      "metadata": {
        "id": "Gtl9AbX1UW2c",
        "colab_type": "code",
        "colab": {
          "base_uri": "https://localhost:8080/",
          "height": 275
        },
        "outputId": "7fff176a-25a4-43c7-ee9e-2efc6fdeef5e"
      },
      "source": [
        "fig, axes = plt.subplots(1, 3, figsize=(10,3))\n",
        "for n_neighbors, ax in zip([1,3,9], axes):\n",
        "    clf = KNeighborsClassifier(n_neighbors=n_neighbors).fit(X, y)\n",
        "    s0 = y == 0\n",
        "    s1 = y == 1\n",
        "    print(ax)\n",
        "    ax.scatter(X[s0,0],X[s0,1], c='r')\n",
        "    ax.scatter(X[s1,0],X[s1,1], c='b')\n",
        "    \n",
        "    mglearn.plots.plot_2d_separator(clf, X, fill=True, eps=0.5, ax=ax, alpha=.4)\n",
        "\n",
        "    ax.set_title(\"{} neighbor(s)\".format(n_neighbors))\n",
        "    ax.set_xlabel(\"feature 0\")\n",
        "    ax.set_ylabel(\"feature 1\")"
      ],
      "execution_count": 18,
      "outputs": [
        {
          "output_type": "stream",
          "text": [
            "AxesSubplot(0.125,0.125;0.227941x0.755)\n",
            "AxesSubplot(0.398529,0.125;0.227941x0.755)\n",
            "AxesSubplot(0.672059,0.125;0.227941x0.755)\n"
          ],
          "name": "stdout"
        },
        {
          "output_type": "display_data",
          "data": {
            "image/png": "[encoded data removed]",
            "text/plain": [
              "<Figure size 720x216 with 3 Axes>"
            ]
          },
          "metadata": {
            "tags": []
          }
        }
      ]
    },
    {
      "cell_type": "code",
      "metadata": {
        "id": "BMNJfi1hVbZ1",
        "colab_type": "code",
        "colab": {}
      },
      "source": [
        "from sklearn.datasets import load_wine\n",
        "wine = load_wine()"
      ],
      "execution_count": 0,
      "outputs": []
    },
    {
      "cell_type": "code",
      "metadata": {
        "id": "cpL_HU5eVew0",
        "colab_type": "code",
        "colab": {
          "base_uri": "https://localhost:8080/",
          "height": 102
        },
        "outputId": "ce60dde4-95d2-4afd-c864-6b4ec0702add"
      },
      "source": [
        "print(wine.target)"
      ],
      "execution_count": 20,
      "outputs": [
        {
          "output_type": "stream",
          "text": [
            "[0 0 0 0 0 0 0 0 0 0 0 0 0 0 0 0 0 0 0 0 0 0 0 0 0 0 0 0 0 0 0 0 0 0 0 0 0\n",
            " 0 0 0 0 0 0 0 0 0 0 0 0 0 0 0 0 0 0 0 0 0 0 1 1 1 1 1 1 1 1 1 1 1 1 1 1 1\n",
            " 1 1 1 1 1 1 1 1 1 1 1 1 1 1 1 1 1 1 1 1 1 1 1 1 1 1 1 1 1 1 1 1 1 1 1 1 1\n",
            " 1 1 1 1 1 1 1 1 1 1 1 1 1 1 1 1 1 1 1 2 2 2 2 2 2 2 2 2 2 2 2 2 2 2 2 2 2\n",
            " 2 2 2 2 2 2 2 2 2 2 2 2 2 2 2 2 2 2 2 2 2 2 2 2 2 2 2 2 2 2]\n"
          ],
          "name": "stdout"
        }
      ]
    },
    {
      "cell_type": "code",
      "metadata": {
        "id": "y2_RIv7IVgHt",
        "colab_type": "code",
        "colab": {
          "base_uri": "https://localhost:8080/",
          "height": 34
        },
        "outputId": "3464d05e-e45c-4cbc-9658-e0cef7454f7a"
      },
      "source": [
        "print(wine.target_names)"
      ],
      "execution_count": 21,
      "outputs": [
        {
          "output_type": "stream",
          "text": [
            "['class_0' 'class_1' 'class_2']\n"
          ],
          "name": "stdout"
        }
      ]
    },
    {
      "cell_type": "code",
      "metadata": {
        "id": "cyplWkCzVh07",
        "colab_type": "code",
        "colab": {
          "base_uri": "https://localhost:8080/",
          "height": 51
        },
        "outputId": "30a52762-e79e-4ee2-c8b1-f9fd346c0e36"
      },
      "source": [
        "X_train, X_test, y_train, y_test = train_test_split(wine.data, wine.target,\n",
        "                                                   stratify = wine.target, random_state=66)\n",
        "clf = KNeighborsClassifier(n_neighbors=3)\n",
        "clf.fit(X_train, y_train)\n",
        "\n",
        "print(\"Wine train set accuracy: {:.2f}\".format(clf.score(X_train, y_train)))\n",
        "print(\"Wine test set accuracy: {:.2f}\".format(clf.score(X_test, y_test)))"
      ],
      "execution_count": 22,
      "outputs": [
        {
          "output_type": "stream",
          "text": [
            "Wine train set accuracy: 0.86\n",
            "Wine test set accuracy: 0.69\n"
          ],
          "name": "stdout"
        }
      ]
    },
    {
      "cell_type": "code",
      "metadata": {
        "id": "IzCdxEnRV3-N",
        "colab_type": "code",
        "colab": {
          "base_uri": "https://localhost:8080/",
          "height": 374
        },
        "outputId": "24ad0663-e80e-45c1-bbae-066d28f76019"
      },
      "source": [
        "for n_neighbors in [1,3,5,7,9,11,13]:\n",
        "    clf = KNeighborsClassifier(n_neighbors=n_neighbors).fit(X_train, y_train)\n",
        "    print(n_neighbors, \"neighbors with wine train set accuracy: {:.2f}\".format(clf.score(X_train, y_train)))\n",
        "    print(n_neighbors, \"neighbors with wine test set accuracy: {:.2f}\".format(clf.score(X_test, y_test)), '\\n')"
      ],
      "execution_count": 23,
      "outputs": [
        {
          "output_type": "stream",
          "text": [
            "1 neighbors with wine train set accuracy: 1.00\n",
            "1 neighbors with wine test set accuracy: 0.76 \n",
            "\n",
            "3 neighbors with wine train set accuracy: 0.86\n",
            "3 neighbors with wine test set accuracy: 0.69 \n",
            "\n",
            "5 neighbors with wine train set accuracy: 0.80\n",
            "5 neighbors with wine test set accuracy: 0.73 \n",
            "\n",
            "7 neighbors with wine train set accuracy: 0.74\n",
            "7 neighbors with wine test set accuracy: 0.62 \n",
            "\n",
            "9 neighbors with wine train set accuracy: 0.78\n",
            "9 neighbors with wine test set accuracy: 0.60 \n",
            "\n",
            "11 neighbors with wine train set accuracy: 0.74\n",
            "11 neighbors with wine test set accuracy: 0.58 \n",
            "\n",
            "13 neighbors with wine train set accuracy: 0.77\n",
            "13 neighbors with wine test set accuracy: 0.62 \n",
            "\n"
          ],
          "name": "stdout"
        }
      ]
    },
    {
      "cell_type": "code",
      "metadata": {
        "id": "LSXjNOFdV587",
        "colab_type": "code",
        "colab": {}
      },
      "source": [
        "training_accuracy = []\n",
        "test_accuracy = []"
      ],
      "execution_count": 0,
      "outputs": []
    },
    {
      "cell_type": "code",
      "metadata": {
        "id": "6hxHgkrkV9np",
        "colab_type": "code",
        "colab": {}
      },
      "source": [
        "neighbors_settings = range(1, 11)"
      ],
      "execution_count": 0,
      "outputs": []
    },
    {
      "cell_type": "code",
      "metadata": {
        "id": "HKPRMitjV_D-",
        "colab_type": "code",
        "colab": {
          "base_uri": "https://localhost:8080/",
          "height": 301
        },
        "outputId": "fe53140b-bc1f-43e6-9723-e9d194d654af"
      },
      "source": [
        "for n_neighbors in neighbors_settings:\n",
        "    clf = KNeighborsClassifier(n_neighbors=n_neighbors)\n",
        "    clf.fit(X_train, y_train)\n",
        "    \n",
        "    training_accuracy.append(clf.score(X_train, y_train))\n",
        "    test_accuracy.append(clf.score(X_test, y_test))\n",
        "    \n",
        "plt.plot(neighbors_settings, training_accuracy, label=\"training accuracy\")\n",
        "plt.plot(neighbors_settings, test_accuracy, label=\"test accuracy\")\n",
        "plt.ylabel(\"Accuracy\")\n",
        "plt.xlabel(\"n_neighbors\")\n",
        "plt.legend()"
      ],
      "execution_count": 26,
      "outputs": [
        {
          "output_type": "execute_result",
          "data": {
            "text/plain": [
              "<matplotlib.legend.Legend at 0x7f77e58c21d0>"
            ]
          },
          "metadata": {
            "tags": []
          },
          "execution_count": 26
        },
        {
          "output_type": "display_data",
          "data": {
            "image/png": "[encoded data removed]",
            "text/plain": [
              "<Figure size 432x288 with 1 Axes>"
            ]
          },
          "metadata": {
            "tags": []
          }
        }
      ]
    },
    {
      "cell_type": "markdown",
      "metadata": {
        "id": "JT45c-2wWEit",
        "colab_type": "text"
      },
      "source": [
        "k-neighbors regression"
      ]
    },
    {
      "cell_type": "code",
      "metadata": {
        "id": "oSmsT1dbWDCg",
        "colab_type": "code",
        "colab": {}
      },
      "source": [
        "from sklearn.neighbors import KNeighborsRegressor"
      ],
      "execution_count": 0,
      "outputs": []
    },
    {
      "cell_type": "code",
      "metadata": {
        "id": "-PcnhsBFWIef",
        "colab_type": "code",
        "colab": {
          "base_uri": "https://localhost:8080/",
          "height": 51
        },
        "outputId": "2b9555e1-81fd-4f28-b4a9-1750e718e3ba"
      },
      "source": [
        "X, y = mglearn.datasets.make_wave(n_samples=40)\n",
        "print(X.shape)\n",
        "print(y.shape)"
      ],
      "execution_count": 28,
      "outputs": [
        {
          "output_type": "stream",
          "text": [
            "(40, 1)\n",
            "(40,)\n"
          ],
          "name": "stdout"
        }
      ]
    },
    {
      "cell_type": "code",
      "metadata": {
        "id": "myg3NqyoWJyZ",
        "colab_type": "code",
        "colab": {
          "base_uri": "https://localhost:8080/",
          "height": 286
        },
        "outputId": "6aeef18a-e04f-42bd-f2bd-574dcafba33a"
      },
      "source": [
        "plt.scatter(X[:,0], y)"
      ],
      "execution_count": 29,
      "outputs": [
        {
          "output_type": "execute_result",
          "data": {
            "text/plain": [
              "<matplotlib.collections.PathCollection at 0x7f77e58aa780>"
            ]
          },
          "metadata": {
            "tags": []
          },
          "execution_count": 29
        },
        {
          "output_type": "display_data",
          "data": {
            "image/png": "[encoded data removed]",
            "text/plain": [
              "<Figure size 432x288 with 1 Axes>"
            ]
          },
          "metadata": {
            "tags": []
          }
        }
      ]
    },
    {
      "cell_type": "code",
      "metadata": {
        "id": "bHhHcHeeWLXp",
        "colab_type": "code",
        "colab": {
          "base_uri": "https://localhost:8080/",
          "height": 68
        },
        "outputId": "3b45c9d7-dee5-4182-d1e8-813737e56157"
      },
      "source": [
        "X_train, X_test, y_train, y_test = train_test_split(X, y, random_state=0)\n",
        "reg = KNeighborsRegressor(n_neighbors=3)\n",
        "reg.fit(X_train, y_train)"
      ],
      "execution_count": 30,
      "outputs": [
        {
          "output_type": "execute_result",
          "data": {
            "text/plain": [
              "KNeighborsRegressor(algorithm='auto', leaf_size=30, metric='minkowski',\n",
              "          metric_params=None, n_jobs=None, n_neighbors=3, p=2,\n",
              "          weights='uniform')"
            ]
          },
          "metadata": {
            "tags": []
          },
          "execution_count": 30
        }
      ]
    },
    {
      "cell_type": "code",
      "metadata": {
        "id": "HXxI6f-jWNwn",
        "colab_type": "code",
        "colab": {
          "base_uri": "https://localhost:8080/",
          "height": 286
        },
        "outputId": "f76493fb-7ade-4a56-bbc7-28c81868a509"
      },
      "source": [
        "plt.scatter(X_train[:,0], y_train, c='b' , label=\"train\")\n",
        "plt.scatter(X_test[:,0], y_test, c='g', label=\"test\")\n",
        "plt.scatter(X_test[:,0], reg.predict(X_test), c='r' , label=\"predict\")\n",
        "line = np.linspace(-3, 3, 1000).reshape(-1,1)\n",
        "plt.plot(line, reg.predict(line), c='r')\n",
        "plt.legend()"
      ],
      "execution_count": 31,
      "outputs": [
        {
          "output_type": "execute_result",
          "data": {
            "text/plain": [
              "<matplotlib.legend.Legend at 0x7f77e580c550>"
            ]
          },
          "metadata": {
            "tags": []
          },
          "execution_count": 31
        },
        {
          "output_type": "display_data",
          "data": {
            "image/png": "[encoded data removed]",
            "text/plain": [
              "<Figure size 432x288 with 1 Axes>"
            ]
          },
          "metadata": {
            "tags": []
          }
        }
      ]
    },
    {
      "cell_type": "code",
      "metadata": {
        "id": "YRDBFiZjWPoU",
        "colab_type": "code",
        "colab": {
          "base_uri": "https://localhost:8080/",
          "height": 34
        },
        "outputId": "83a22f47-d6c1-4bd6-a28e-cb147c9e55ea"
      },
      "source": [
        "print(\"Test set R^2: {:.2f}\".format(reg.score(X_test, y_test)))"
      ],
      "execution_count": 32,
      "outputs": [
        {
          "output_type": "stream",
          "text": [
            "Test set R^2: 0.83\n"
          ],
          "name": "stdout"
        }
      ]
    },
    {
      "cell_type": "code",
      "metadata": {
        "id": "VTOAvdJOWoVC",
        "colab_type": "code",
        "colab": {}
      },
      "source": [
        "X_train, X_test, y_train, y_test = train_test_split(wine.data, wine.target,\n",
        "                                                   stratify = wine.target, random_state=66)\n"
      ],
      "execution_count": 0,
      "outputs": []
    },
    {
      "cell_type": "code",
      "metadata": {
        "id": "OtoPCVDZWrby",
        "colab_type": "code",
        "colab": {
          "base_uri": "https://localhost:8080/",
          "height": 374
        },
        "outputId": "524fdc99-4915-4667-e9ba-b38c0b72754b"
      },
      "source": [
        "for n_neighbors in [1,3,5,7,9,11,13]:\n",
        "    clf = KNeighborsRegressor(n_neighbors=n_neighbors).fit(X_train, y_train)\n",
        "    print(n_neighbors, \"neighbors with wine train set accuracy: {:.2f}\".format(clf.score(X_train, y_train)))\n",
        "    print(n_neighbors, \"neighbors with wine test set accuracy: {:.2f}\".format(clf.score(X_test, y_test)), '\\n')"
      ],
      "execution_count": 34,
      "outputs": [
        {
          "output_type": "stream",
          "text": [
            "1 neighbors with wine train set accuracy: 1.00\n",
            "1 neighbors with wine test set accuracy: 0.37 \n",
            "\n",
            "3 neighbors with wine train set accuracy: 0.75\n",
            "3 neighbors with wine test set accuracy: 0.50 \n",
            "\n",
            "5 neighbors with wine train set accuracy: 0.69\n",
            "5 neighbors with wine test set accuracy: 0.45 \n",
            "\n",
            "7 neighbors with wine train set accuracy: 0.65\n",
            "7 neighbors with wine test set accuracy: 0.46 \n",
            "\n",
            "9 neighbors with wine train set accuracy: 0.66\n",
            "9 neighbors with wine test set accuracy: 0.46 \n",
            "\n",
            "11 neighbors with wine train set accuracy: 0.63\n",
            "11 neighbors with wine test set accuracy: 0.46 \n",
            "\n",
            "13 neighbors with wine train set accuracy: 0.62\n",
            "13 neighbors with wine test set accuracy: 0.48 \n",
            "\n"
          ],
          "name": "stdout"
        }
      ]
    },
    {
      "cell_type": "code",
      "metadata": {
        "id": "39v9_AzFWtS2",
        "colab_type": "code",
        "colab": {
          "base_uri": "https://localhost:8080/",
          "height": 286
        },
        "outputId": "b61edeb8-a054-4724-e3fd-de6883b26236"
      },
      "source": [
        "fig, axes = plt.subplots(1, 3, figsize=(15,4))\n",
        "\n",
        "line = np.linspace(0, 20, 1300).reshape(-1, 13)\n",
        "#print(X_train.shape)\n",
        "#print(reg.predict(line).shape)\n",
        "\n",
        "\n",
        "for n_neighbors, ax in zip([1,3,9], axes):\n",
        "    reg = KNeighborsRegressor(n_neighbors = n_neighbors)\n",
        "    reg.fit(X_train, y_train)\n",
        "    ax.plot(line, reg.predict(line))\n",
        "    \n",
        "    ax.scatter(X_train[:,0], y_train, c='b' , label=\"train\")\n",
        "    ax.scatter(X_test[:,0], y_test, c='g', label=\"test\")\n",
        "    ax.scatter(X_test[:,0], reg.predict(X_test), c='r' , label=\"predict\")\n",
        "    \n",
        "plt.legend()"
      ],
      "execution_count": 35,
      "outputs": [
        {
          "output_type": "execute_result",
          "data": {
            "text/plain": [
              "<matplotlib.legend.Legend at 0x7f77e57c8cc0>"
            ]
          },
          "metadata": {
            "tags": []
          },
          "execution_count": 35
        },
        {
          "output_type": "display_data",
          "data": {
            "image/png": "[encoded data removed]",
            "text/plain": [
              "<Figure size 1080x288 with 3 Axes>"
            ]
          },
          "metadata": {
            "tags": []
          }
        }
      ]
    },
    {
      "cell_type": "code",
      "metadata": {
        "id": "B5t6_ZuzWwe6",
        "colab_type": "code",
        "colab": {}
      },
      "source": [
        ""
      ],
      "execution_count": 0,
      "outputs": []
    }
  ]
}