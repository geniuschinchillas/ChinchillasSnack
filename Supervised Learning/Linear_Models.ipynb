{
  "nbformat": 4,
  "nbformat_minor": 0,
  "metadata": {
    "colab": {
      "name": "Linear Models.ipynb",
      "version": "0.3.2",
      "provenance": [],
      "collapsed_sections": [],
      "include_colab_link": true
    },
    "kernelspec": {
      "name": "python3",
      "display_name": "Python 3"
    }
  },
  "cells": [
    {
      "cell_type": "markdown",
      "metadata": {
        "id": "view-in-github",
        "colab_type": "text"
      },
      "source": [
        "<a href=\"https://colab.research.google.com/github/geniuschinchillas/ChinchillasSnack/blob/master/Supervised%20Learning/Linear_Models.ipynb\" target=\"_parent\"><img src=\"https://colab.research.google.com/assets/colab-badge.svg\" alt=\"Open In Colab\"/></a>"
      ]
    },
    {
      "cell_type": "code",
      "metadata": {
        "id": "WAJq7RZq_bWb",
        "colab_type": "code",
        "colab": {}
      },
      "source": [
        "import pandas as pd\n",
        "import numpy as np\n",
        "import matplotlib.pyplot as plt\n",
        "import scipy.stats as stats\n",
        "import math\n",
        "from sklearn.datasets import samples_generator as sg"
      ],
      "execution_count": 0,
      "outputs": []
    },
    {
      "cell_type": "code",
      "metadata": {
        "id": "40IvvkhP_qX2",
        "colab_type": "code",
        "colab": {}
      },
      "source": [
        "%matplotlib inline"
      ],
      "execution_count": 0,
      "outputs": []
    },
    {
      "cell_type": "code",
      "metadata": {
        "id": "doTvAyLN_5Ck",
        "colab_type": "code",
        "colab": {}
      },
      "source": [
        "from sklearn.model_selection import train_test_split"
      ],
      "execution_count": 0,
      "outputs": []
    },
    {
      "cell_type": "code",
      "metadata": {
        "id": "8jbcmmnv__ZI",
        "colab_type": "code",
        "colab": {}
      },
      "source": [
        "import mglearn"
      ],
      "execution_count": 0,
      "outputs": []
    },
    {
      "cell_type": "markdown",
      "metadata": {
        "id": "l1xFtumiADPV",
        "colab_type": "text"
      },
      "source": [
        "**Linear Models**"
      ]
    },
    {
      "cell_type": "markdown",
      "metadata": {
        "id": "plZuswsqAGFT",
        "colab_type": "text"
      },
      "source": [
        "Linear models for regression"
      ]
    },
    {
      "cell_type": "code",
      "metadata": {
        "id": "bl0sJJbXABqE",
        "colab_type": "code",
        "colab": {}
      },
      "source": [
        "from sklearn.linear_model import LinearRegression"
      ],
      "execution_count": 0,
      "outputs": []
    },
    {
      "cell_type": "code",
      "metadata": {
        "id": "pd84pOzOAloZ",
        "colab_type": "code",
        "colab": {}
      },
      "source": [
        "from sklearn.datasets.samples_generator import make_regression"
      ],
      "execution_count": 0,
      "outputs": []
    },
    {
      "cell_type": "code",
      "metadata": {
        "id": "pABlKDr_AskY",
        "colab_type": "code",
        "colab": {}
      },
      "source": [
        "X, y, coef = make_regression(n_samples=60, n_features=1, n_informative=1, \n",
        "                            noise=10, coef=True, random_state=0)"
      ],
      "execution_count": 0,
      "outputs": []
    },
    {
      "cell_type": "code",
      "metadata": {
        "id": "D6ZponNOBUq9",
        "colab_type": "code",
        "colab": {
          "base_uri": "https://localhost:8080/",
          "height": 52
        },
        "outputId": "a75e9559-560e-45e7-f72e-4f5751359f3e"
      },
      "source": [
        "print(X.shape)\n",
        "print(coef)"
      ],
      "execution_count": 10,
      "outputs": [
        {
          "output_type": "stream",
          "text": [
            "(60, 1)\n",
            "29.614019752214492\n"
          ],
          "name": "stdout"
        }
      ]
    },
    {
      "cell_type": "code",
      "metadata": {
        "id": "pjTaqEtZELFO",
        "colab_type": "code",
        "colab": {
          "base_uri": "https://localhost:8080/",
          "height": 225
        },
        "outputId": "91c88598-abbf-4577-b26c-8d6b0b2c8d1b"
      },
      "source": [
        "print(y)"
      ],
      "execution_count": 11,
      "outputs": [
        {
          "output_type": "stream",
          "text": [
            "[ 13.96420455   3.23554172 -18.58442304  42.49774253  29.84594154\n",
            "   0.69334246 -56.58651801  20.06023862 -10.95037945 -40.22135965\n",
            "  18.52370062  47.66156114 -11.2760963  -27.87425514  -6.71565213\n",
            "  -7.67079125  48.70440245  61.50390984  -1.45013971 -11.02944183\n",
            "  66.51098598  11.14407485 -23.73067717  14.15407657   4.44278877\n",
            "  34.61134638 -41.51899017 -21.73900887   7.41492379 -47.80245657\n",
            " -21.95630211  30.09349139   8.65283141   9.77154116   6.07658361\n",
            " -41.74827997  -2.21321423 -21.37190545   3.56961894  14.02909127\n",
            "  65.0340129   37.65539089   8.3474392   -9.59368526 -37.02801674\n",
            " -34.34106968   2.6559067   22.23414768  11.09662376  20.93332858\n",
            "  54.4669501   35.624909   -17.88751974   2.20149974 -57.16737553\n",
            " -33.46260412  47.95114903 -16.55491754  45.00041122 -18.20688346]\n"
          ],
          "name": "stdout"
        }
      ]
    },
    {
      "cell_type": "code",
      "metadata": {
        "id": "IulBnd27ENFG",
        "colab_type": "code",
        "colab": {
          "base_uri": "https://localhost:8080/",
          "height": 287
        },
        "outputId": "6d88a232-77ad-49ea-d928-da7552fd527e"
      },
      "source": [
        "plt.scatter(X, y)"
      ],
      "execution_count": 12,
      "outputs": [
        {
          "output_type": "execute_result",
          "data": {
            "text/plain": [
              "<matplotlib.collections.PathCollection at 0x7f229b212be0>"
            ]
          },
          "metadata": {
            "tags": []
          },
          "execution_count": 12
        },
        {
          "output_type": "display_data",
          "data": {
            "image/png": "[encoded data removed]",
            "text/plain": [
              "<Figure size 432x288 with 1 Axes>"
            ]
          },
          "metadata": {
            "tags": []
          }
        }
      ]
    },
    {
      "cell_type": "code",
      "metadata": {
        "id": "zxu6R-QmEQLw",
        "colab_type": "code",
        "colab": {}
      },
      "source": [
        "X_train, X_test, y_train, y_test = train_test_split(X,y,random_state=42)"
      ],
      "execution_count": 0,
      "outputs": []
    },
    {
      "cell_type": "code",
      "metadata": {
        "id": "Am1x_52yEal0",
        "colab_type": "code",
        "colab": {
          "base_uri": "https://localhost:8080/",
          "height": 52
        },
        "outputId": "d9918f0a-8d08-4314-a96b-48de82db23b2"
      },
      "source": [
        "print(X_train.shape)\n",
        "print(y_train.shape)"
      ],
      "execution_count": 14,
      "outputs": [
        {
          "output_type": "stream",
          "text": [
            "(45, 1)\n",
            "(45,)\n"
          ],
          "name": "stdout"
        }
      ]
    },
    {
      "cell_type": "code",
      "metadata": {
        "id": "xOfetDtyEfTh",
        "colab_type": "code",
        "colab": {}
      },
      "source": [
        "lr = LinearRegression().fit(X_train, y_train)"
      ],
      "execution_count": 0,
      "outputs": []
    },
    {
      "cell_type": "code",
      "metadata": {
        "id": "KyO8DEBNEoRT",
        "colab_type": "code",
        "colab": {
          "base_uri": "https://localhost:8080/",
          "height": 52
        },
        "outputId": "7ca5b170-61e8-4577-a910-eee5446a3f41"
      },
      "source": [
        "print(\"lr.coef_:\", lr.coef_)\n",
        "print(\"lr.intercept_:\", lr.intercept_)"
      ],
      "execution_count": 16,
      "outputs": [
        {
          "output_type": "stream",
          "text": [
            "lr.coef_: [27.834947]\n",
            "lr.intercept_: -0.4937913942790093\n"
          ],
          "name": "stdout"
        }
      ]
    },
    {
      "cell_type": "code",
      "metadata": {
        "id": "DLdy0GKpEzEm",
        "colab_type": "code",
        "colab": {
          "base_uri": "https://localhost:8080/",
          "height": 52
        },
        "outputId": "4b0b1074-195d-467e-faaf-c1cd0fd376d7"
      },
      "source": [
        "print(\"Training set score: {:.2f}\".format(lr.score(X_train, y_train)))\n",
        "print(\"Test set score: {:.2f}\".format(lr.score(X_test, y_test)))"
      ],
      "execution_count": 17,
      "outputs": [
        {
          "output_type": "stream",
          "text": [
            "Training set score: 0.92\n",
            "Test set score: 0.81\n"
          ],
          "name": "stdout"
        }
      ]
    },
    {
      "cell_type": "code",
      "metadata": {
        "id": "UtO-9KHoFSXz",
        "colab_type": "code",
        "colab": {
          "base_uri": "https://localhost:8080/",
          "height": 287
        },
        "outputId": "f801f09a-766c-4a1c-a59c-bdbf8cbac2eb"
      },
      "source": [
        "plt.scatter(X_train, y_train, c='g')\n",
        "plt.scatter(X_test, y_test, c='b')\n",
        "#plt.scatter(X_test, lr.predict(X_test), c='r')\n",
        "line = np.linspace(-3, 3, 1000).reshape(-1,1)\n",
        "plt.plot(line, lr.predict(line), c='r')"
      ],
      "execution_count": 18,
      "outputs": [
        {
          "output_type": "execute_result",
          "data": {
            "text/plain": [
              "[<matplotlib.lines.Line2D at 0x7f2298994dd8>]"
            ]
          },
          "metadata": {
            "tags": []
          },
          "execution_count": 18
        },
        {
          "output_type": "display_data",
          "data": {
            "image/png": "[encoded data removed]",
            "text/plain": [
              "<Figure size 432x288 with 1 Axes>"
            ]
          },
          "metadata": {
            "tags": []
          }
        }
      ]
    },
    {
      "cell_type": "code",
      "metadata": {
        "id": "BU4WY2aXFVNK",
        "colab_type": "code",
        "colab": {}
      },
      "source": [
        "from sklearn.datasets import load_boston\n",
        "from sklearn.preprocessing import MinMaxScaler, PolynomialFeatures"
      ],
      "execution_count": 0,
      "outputs": []
    },
    {
      "cell_type": "code",
      "metadata": {
        "id": "VtxUftZlFa49",
        "colab_type": "code",
        "colab": {}
      },
      "source": [
        "boston = load_boston()\n",
        "X = boston.data\n",
        "\n",
        "X = MinMaxScaler().fit_transform(boston.data)\n",
        "X = PolynomialFeatures(degree=2, include_bias=False).fit_transform(X)\n",
        "y = boston.target"
      ],
      "execution_count": 0,
      "outputs": []
    },
    {
      "cell_type": "code",
      "metadata": {
        "id": "h6ePvrzpFcaJ",
        "colab_type": "code",
        "colab": {
          "base_uri": "https://localhost:8080/",
          "height": 52
        },
        "outputId": "d2afd231-0587-4d1a-c78b-cbc277e3ef6f"
      },
      "source": [
        "print(X.shape)\n",
        "print(y.shape)"
      ],
      "execution_count": 21,
      "outputs": [
        {
          "output_type": "stream",
          "text": [
            "(506, 104)\n",
            "(506,)\n"
          ],
          "name": "stdout"
        }
      ]
    },
    {
      "cell_type": "code",
      "metadata": {
        "id": "BruzJo_WFfUX",
        "colab_type": "code",
        "colab": {}
      },
      "source": [
        "X_train, X_test, y_train, y_test = train_test_split(X, y, random_state=0)"
      ],
      "execution_count": 0,
      "outputs": []
    },
    {
      "cell_type": "code",
      "metadata": {
        "id": "39t-fDs3Fj4M",
        "colab_type": "code",
        "colab": {}
      },
      "source": [
        "lr = LinearRegression().fit(X_train, y_train)"
      ],
      "execution_count": 0,
      "outputs": []
    },
    {
      "cell_type": "code",
      "metadata": {
        "id": "TmZyiSp2FlGy",
        "colab_type": "code",
        "colab": {
          "base_uri": "https://localhost:8080/",
          "height": 52
        },
        "outputId": "92248087-11b3-40cb-d753-67aace86f569"
      },
      "source": [
        "print(\"Training set score: {:.2f}\".format(lr.score(X_train, y_train)))\n",
        "print(\"Test set score: {:.2f}\".format(lr.score(X_test, y_test)))"
      ],
      "execution_count": 24,
      "outputs": [
        {
          "output_type": "stream",
          "text": [
            "Training set score: 0.95\n",
            "Test set score: 0.61\n"
          ],
          "name": "stdout"
        }
      ]
    },
    {
      "cell_type": "markdown",
      "metadata": {
        "id": "bZsaDShIFqX7",
        "colab_type": "text"
      },
      "source": [
        "Ridge regression"
      ]
    },
    {
      "cell_type": "code",
      "metadata": {
        "id": "9rvwdtSEFmh1",
        "colab_type": "code",
        "colab": {}
      },
      "source": [
        "from sklearn.linear_model import Ridge"
      ],
      "execution_count": 0,
      "outputs": []
    },
    {
      "cell_type": "code",
      "metadata": {
        "id": "1Rla1bcHFuPN",
        "colab_type": "code",
        "colab": {
          "base_uri": "https://localhost:8080/",
          "height": 52
        },
        "outputId": "8a045d11-da26-4210-a002-8ba1d9ca89eb"
      },
      "source": [
        "ridge = Ridge().fit(X_train, y_train)\n",
        "print(\"Training set score: {:.2f}\".format(ridge.score(X_train, y_train)))\n",
        "print(\"Test set score: {:.2f}\".format(ridge.score(X_test, y_test)))"
      ],
      "execution_count": 26,
      "outputs": [
        {
          "output_type": "stream",
          "text": [
            "Training set score: 0.89\n",
            "Test set score: 0.75\n"
          ],
          "name": "stdout"
        }
      ]
    },
    {
      "cell_type": "code",
      "metadata": {
        "id": "9kbI0St1GIeg",
        "colab_type": "code",
        "colab": {
          "base_uri": "https://localhost:8080/",
          "height": 52
        },
        "outputId": "c03bf8d5-0a15-4efe-f457-a285ad537da3"
      },
      "source": [
        "ridge10 = Ridge(alpha=10).fit(X_train, y_train)\n",
        "print(\"Training set score: {:.2f}\".format(ridge10.score(X_train, y_train)))\n",
        "print(\"Test set score: {:.2f}\".format(ridge10.score(X_test, y_test)))"
      ],
      "execution_count": 27,
      "outputs": [
        {
          "output_type": "stream",
          "text": [
            "Training set score: 0.79\n",
            "Test set score: 0.64\n"
          ],
          "name": "stdout"
        }
      ]
    },
    {
      "cell_type": "code",
      "metadata": {
        "id": "pz14zI6MGKRb",
        "colab_type": "code",
        "colab": {
          "base_uri": "https://localhost:8080/",
          "height": 52
        },
        "outputId": "2a992849-aa3c-4448-e242-dda0fed6ea5b"
      },
      "source": [
        "ridge01 = Ridge(alpha=0.1).fit(X_train, y_train)\n",
        "print(\"Training set score: {:.2f}\".format(ridge01.score(X_train, y_train)))\n",
        "print(\"Test set score: {:.2f}\".format(ridge01.score(X_test, y_test)))"
      ],
      "execution_count": 28,
      "outputs": [
        {
          "output_type": "stream",
          "text": [
            "Training set score: 0.93\n",
            "Test set score: 0.77\n"
          ],
          "name": "stdout"
        }
      ]
    },
    {
      "cell_type": "code",
      "metadata": {
        "id": "j2KPdxBhGLtk",
        "colab_type": "code",
        "colab": {
          "base_uri": "https://localhost:8080/",
          "height": 301
        },
        "outputId": "c0c3350b-e723-441f-e2c0-b5e8af688365"
      },
      "source": [
        "plt.plot(ridge.coef_, 's',label=\"Ridge alpha=1\")\n",
        "plt.plot(ridge10.coef_, '^', label=\"Ridge alpha=10\")\n",
        "plt.plot(ridge01.coef_, 'v', label=\"Ridge alpha=0.1\")\n",
        "\n",
        "plt.plot(lr.coef_, 'o', label=\"LinearRegression\")\n",
        "plt.xlabel(\"Coefficient index\")\n",
        "plt.ylabel(\"Coefficient magnitude\")\n",
        "xlims = plt.xlim()\n",
        "plt.hlines(0, xlims[0], xlims[1])\n",
        "plt.xlim(xlims)\n",
        "plt.ylim(-25, 25)\n",
        "plt.legend()"
      ],
      "execution_count": 29,
      "outputs": [
        {
          "output_type": "execute_result",
          "data": {
            "text/plain": [
              "<matplotlib.legend.Legend at 0x7f22989322b0>"
            ]
          },
          "metadata": {
            "tags": []
          },
          "execution_count": 29
        },
        {
          "output_type": "display_data",
          "data": {
            "image/png": "[encoded data removed]",
            "text/plain": [
              "<Figure size 432x288 with 1 Axes>"
            ]
          },
          "metadata": {
            "tags": []
          }
        }
      ]
    },
    {
      "cell_type": "markdown",
      "metadata": {
        "id": "t5pdJMsrG6km",
        "colab_type": "text"
      },
      "source": [
        "Lasso"
      ]
    },
    {
      "cell_type": "code",
      "metadata": {
        "id": "VXm3q_BfG4Ov",
        "colab_type": "code",
        "colab": {}
      },
      "source": [
        "from sklearn.linear_model import Lasso"
      ],
      "execution_count": 0,
      "outputs": []
    },
    {
      "cell_type": "code",
      "metadata": {
        "id": "lzJHxw6VG83h",
        "colab_type": "code",
        "colab": {
          "base_uri": "https://localhost:8080/",
          "height": 69
        },
        "outputId": "299a7bfa-25e4-4ffe-f56a-23388860384d"
      },
      "source": [
        "lasso = Lasso().fit(X_train, y_train)\n",
        "print(\"Training set score: {:.2f}\".format(lasso.score(X_train, y_train)))\n",
        "print(\"Test set score: {:.2f}\".format(lasso.score(X_test, y_test)))\n",
        "print(\"Number of features used:\", np.sum(lasso.coef_ != 0))"
      ],
      "execution_count": 31,
      "outputs": [
        {
          "output_type": "stream",
          "text": [
            "Training set score: 0.29\n",
            "Test set score: 0.21\n",
            "Number of features used: 4\n"
          ],
          "name": "stdout"
        }
      ]
    },
    {
      "cell_type": "code",
      "metadata": {
        "id": "_gdvJ-opG-eR",
        "colab_type": "code",
        "colab": {
          "base_uri": "https://localhost:8080/",
          "height": 509
        },
        "outputId": "dfd716b7-161f-45ae-cd5f-63463b51e2fe"
      },
      "source": [
        "alphas = [0.01, 0.001, 0.0001]\n",
        "symbols = ['s', '^', 'v']\n",
        "for alpha, symbol in zip(alphas, symbols):\n",
        "    lasso = Lasso(alpha = alpha, max_iter=100000).fit(X_train, y_train)\n",
        "    print(\"Training set score: {:.2f}\".format(lasso.score(X_train, y_train)))\n",
        "    print(\"Test set score: {:.2f}\".format(lasso.score(X_test, y_test)))\n",
        "    print(\"Number of features used:\", np.sum(lasso.coef_ != 0), '\\n')\n",
        "    \n",
        "    plt.plot(lasso.coef_, symbol)\n",
        "    \n",
        "plt.ylim(-25, 25)\n",
        "plt.xlabel(\"Coefficient index\")\n",
        "plt.ylabel(\"Coefficient magnitude\")"
      ],
      "execution_count": 32,
      "outputs": [
        {
          "output_type": "stream",
          "text": [
            "Training set score: 0.90\n",
            "Test set score: 0.77\n",
            "Number of features used: 33 \n",
            "\n",
            "Training set score: 0.94\n",
            "Test set score: 0.74\n",
            "Number of features used: 67 \n",
            "\n",
            "Training set score: 0.95\n",
            "Test set score: 0.64\n",
            "Number of features used: 96 \n",
            "\n"
          ],
          "name": "stdout"
        },
        {
          "output_type": "execute_result",
          "data": {
            "text/plain": [
              "Text(0, 0.5, 'Coefficient magnitude')"
            ]
          },
          "metadata": {
            "tags": []
          },
          "execution_count": 32
        },
        {
          "output_type": "display_data",
          "data": {
            "image/png": "[encoded data removed]",
            "text/plain": [
              "<Figure size 432x288 with 1 Axes>"
            ]
          },
          "metadata": {
            "tags": []
          }
        }
      ]
    },
    {
      "cell_type": "markdown",
      "metadata": {
        "id": "Hydivzq6HIAJ",
        "colab_type": "text"
      },
      "source": [
        "Linear models for classification"
      ]
    },
    {
      "cell_type": "code",
      "metadata": {
        "id": "oD-ix5_NHAeD",
        "colab_type": "code",
        "colab": {}
      },
      "source": [
        "from sklearn.linear_model import LogisticRegression\n",
        "from sklearn.svm import LinearSVC"
      ],
      "execution_count": 0,
      "outputs": []
    },
    {
      "cell_type": "code",
      "metadata": {
        "id": "vntKSHI0IIEu",
        "colab_type": "code",
        "colab": {}
      },
      "source": [
        "from sklearn.datasets.samples_generator import make_blobs"
      ],
      "execution_count": 0,
      "outputs": []
    },
    {
      "cell_type": "code",
      "metadata": {
        "id": "thsZlE1HIeXR",
        "colab_type": "code",
        "colab": {
          "base_uri": "https://localhost:8080/",
          "height": 304
        },
        "outputId": "ca8be757-c83f-4755-8fa9-010b8fee9410"
      },
      "source": [
        "X, y = make_blobs(n_samples=30, centers=2, random_state=4)\n",
        "print(X.shape)\n",
        "blues = y == 0\n",
        "reds = y == 1\n",
        "plt.scatter(X[blues,0], X[blues, 1])\n",
        "plt.scatter(X[reds,0], X[reds, 1])"
      ],
      "execution_count": 35,
      "outputs": [
        {
          "output_type": "stream",
          "text": [
            "(30, 2)\n"
          ],
          "name": "stdout"
        },
        {
          "output_type": "execute_result",
          "data": {
            "text/plain": [
              "<matplotlib.collections.PathCollection at 0x7f2298880ef0>"
            ]
          },
          "metadata": {
            "tags": []
          },
          "execution_count": 35
        },
        {
          "output_type": "display_data",
          "data": {
            "image/png": "[encoded data removed]",
            "text/plain": [
              "<Figure size 432x288 with 1 Axes>"
            ]
          },
          "metadata": {
            "tags": []
          }
        }
      ]
    },
    {
      "cell_type": "code",
      "metadata": {
        "id": "VNCndeu_I_nJ",
        "colab_type": "code",
        "colab": {
          "base_uri": "https://localhost:8080/",
          "height": 314
        },
        "outputId": "8bb1ea31-01be-4e65-a8f1-e0a151f49638"
      },
      "source": [
        "fig, axes = plt.subplots(1,2,figsize=(10,3))\n",
        "for model, ax in zip([LinearSVC(), LogisticRegression()], axes):\n",
        "  clf = model.fit(X, y)\n",
        "  \n",
        "  mglearn.plots.plot_2d_separator(clf, X, fill=False, eps=0.5,\n",
        "                                 ax=ax, alpha=0.7)\n",
        "  \n",
        "  ax.scatter(X[blues,0], X[blues,1])\n",
        "  ax.scatter(X[reds,0],X[reds,1])\n",
        "  ax.set_title(clf.__class__.__name__)\n",
        "  ax.set_xlabel(\"Feature 0\")\n",
        "  ax.set_ylabel(\"Feature 1\")"
      ],
      "execution_count": 38,
      "outputs": [
        {
          "output_type": "stream",
          "text": [
            "/usr/local/lib/python3.6/dist-packages/sklearn/svm/base.py:931: ConvergenceWarning: Liblinear failed to converge, increase the number of iterations.\n",
            "  \"the number of iterations.\", ConvergenceWarning)\n",
            "/usr/local/lib/python3.6/dist-packages/sklearn/linear_model/logistic.py:433: FutureWarning: Default solver will be changed to 'lbfgs' in 0.22. Specify a solver to silence this warning.\n",
            "  FutureWarning)\n"
          ],
          "name": "stderr"
        },
        {
          "output_type": "display_data",
          "data": {
            "image/png": "[encoded data removed]",
            "text/plain": [
              "<Figure size 720x216 with 2 Axes>"
            ]
          },
          "metadata": {
            "tags": []
          }
        }
      ]
    },
    {
      "cell_type": "code",
      "metadata": {
        "id": "OfMxGr1NKCq1",
        "colab_type": "code",
        "colab": {}
      },
      "source": [
        "from sklearn.datasets import load_breast_cancer\n",
        "cancer = load_breast_cancer()"
      ],
      "execution_count": 0,
      "outputs": []
    },
    {
      "cell_type": "code",
      "metadata": {
        "id": "PSbSuzcFLPal",
        "colab_type": "code",
        "colab": {}
      },
      "source": [
        "X_train, X_test, y_train, y_test = train_test_split(cancer.data, cancer.target, \n",
        "                                                   stratify=cancer.target, random_state=42)"
      ],
      "execution_count": 0,
      "outputs": []
    },
    {
      "cell_type": "code",
      "metadata": {
        "id": "Mv6bqtnYL1Zc",
        "colab_type": "code",
        "colab": {
          "base_uri": "https://localhost:8080/",
          "height": 565
        },
        "outputId": "dd3ea3e7-9376-4c77-9b0d-7cb98d27095b"
      },
      "source": [
        "chs = [1,100,10,0.01]\n",
        "symbols = ['o', '^', 'v']\n",
        "for ch, symbols in zip(chs, symbols):\n",
        "    label = \"C=\" + str(ch)\n",
        "    logreg = LogisticRegression(solver='lbfgs', max_iter=100000, C=ch).fit(X_train, y_train)\n",
        "    print(\"Training set score: {:.3f}\".format(logreg.score(X_train, y_train)))\n",
        "    print(\"Test set score: {:.3f}\".format(logreg.score(X_test, y_test)), '\\n')\n",
        "    \n",
        "    plt.plot(logreg.coef_.T, symbols, label=label)\n",
        "\n",
        "plt.xticks(range(cancer.data.shape[1]), cancer.feature_names, rotation=90)\n",
        "xlims = plt.xlim()\n",
        "plt.hlines(0, xlims[0], xlims[1])\n",
        "plt.xlim(xlims)\n",
        "plt.ylim(-5, 5)\n",
        "plt.xlabel(\"Feature\")\n",
        "plt.ylabel(\"Coefficient magnitude\")\n",
        "plt.legend()"
      ],
      "execution_count": 41,
      "outputs": [
        {
          "output_type": "stream",
          "text": [
            "Training set score: 0.958\n",
            "Test set score: 0.958 \n",
            "\n",
            "Training set score: 0.981\n",
            "Test set score: 0.965 \n",
            "\n",
            "Training set score: 0.967\n",
            "Test set score: 0.965 \n",
            "\n"
          ],
          "name": "stdout"
        },
        {
          "output_type": "execute_result",
          "data": {
            "text/plain": [
              "<matplotlib.legend.Legend at 0x7f2298645080>"
            ]
          },
          "metadata": {
            "tags": []
          },
          "execution_count": 41
        },
        {
          "output_type": "display_data",
          "data": {
            "image/png": "[encoded data removed]",
            "text/plain": [
              "<Figure size 432x288 with 1 Axes>"
            ]
          },
          "metadata": {
            "tags": []
          }
        }
      ]
    },
    {
      "cell_type": "markdown",
      "metadata": {
        "id": "oWxaRdkmNEEr",
        "colab_type": "text"
      },
      "source": [
        "Linear models for multiclass classification"
      ]
    },
    {
      "cell_type": "code",
      "metadata": {
        "id": "vYVCWYR_NJ_P",
        "colab_type": "code",
        "colab": {}
      },
      "source": [
        "from sklearn.datasets import make_blobs"
      ],
      "execution_count": 0,
      "outputs": []
    },
    {
      "cell_type": "code",
      "metadata": {
        "id": "Jm3ukWfxNX7H",
        "colab_type": "code",
        "colab": {
          "base_uri": "https://localhost:8080/",
          "height": 370
        },
        "outputId": "db023b7c-983f-4425-9b92-f8771182dd27"
      },
      "source": [
        "X, y = make_blobs(random_state=42)\n",
        "print(X.shape,'   ',y.shape)\n",
        "print(y)\n",
        "c1 = y == 0\n",
        "c2 = y == 1\n",
        "c3 = y == 2\n",
        "plt.scatter(X[c1,0], X[c1,1], c='r')\n",
        "plt.scatter(X[c2,0], X[c2,1], c='b')\n",
        "plt.scatter(X[c3,0], X[c3,1], c='g')\n",
        "plt.xlabel(\"Feature 0\")\n",
        "plt.ylabel(\"Feature 1\")\n",
        "plt.legend([\"Class 0\", \"Class 1\", \"Class 2\"])"
      ],
      "execution_count": 43,
      "outputs": [
        {
          "output_type": "stream",
          "text": [
            "(100, 2)     (100,)\n",
            "[2 1 0 1 2 1 0 1 1 0 0 2 2 0 0 2 2 0 2 2 0 2 2 0 0 0 1 2 2 2 2 1 1 2 0 0 0\n",
            " 0 1 1 2 0 1 0 0 1 2 2 2 1 1 1 0 2 2 2 0 0 1 0 2 1 2 1 2 2 1 2 1 1 1 2 2 0\n",
            " 1 2 1 2 1 1 0 1 0 2 0 0 0 1 0 1 1 1 0 1 0 0 0 1 2 0]\n"
          ],
          "name": "stdout"
        },
        {
          "output_type": "execute_result",
          "data": {
            "text/plain": [
              "<matplotlib.legend.Legend at 0x7f229851e080>"
            ]
          },
          "metadata": {
            "tags": []
          },
          "execution_count": 43
        },
        {
          "output_type": "display_data",
          "data": {
            "image/png": "[encoded data removed]",
            "text/plain": [
              "<Figure size 432x288 with 1 Axes>"
            ]
          },
          "metadata": {
            "tags": []
          }
        }
      ]
    },
    {
      "cell_type": "code",
      "metadata": {
        "id": "p0YAIP7qNjYA",
        "colab_type": "code",
        "colab": {
          "base_uri": "https://localhost:8080/",
          "height": 52
        },
        "outputId": "8da9cfcc-4ffd-415d-8db3-b8f34a089aee"
      },
      "source": [
        "linear_svm = LinearSVC().fit(X,y)\n",
        "print(\"Coefficient shape: \", linear_svm.coef_.shape)\n",
        "print(\"Intercept shape: \", linear_svm.intercept_.shape)"
      ],
      "execution_count": 44,
      "outputs": [
        {
          "output_type": "stream",
          "text": [
            "Coefficient shape:  (3, 2)\n",
            "Intercept shape:  (3,)\n"
          ],
          "name": "stdout"
        }
      ]
    },
    {
      "cell_type": "code",
      "metadata": {
        "id": "tTFUhOjsOYrd",
        "colab_type": "code",
        "colab": {
          "base_uri": "https://localhost:8080/",
          "height": 87
        },
        "outputId": "7ca2a8b4-6c62-4531-8094-538cabc6e5d5"
      },
      "source": [
        "print(linear_svm.coef_)\n",
        "print(linear_svm.intercept_)"
      ],
      "execution_count": 47,
      "outputs": [
        {
          "output_type": "stream",
          "text": [
            "[[-0.17492454  0.23140255]\n",
            " [ 0.47621553 -0.06936502]\n",
            " [-0.18913997 -0.20399946]]\n",
            "[-1.07745806  0.13140899 -0.08604779]\n"
          ],
          "name": "stdout"
        }
      ]
    },
    {
      "cell_type": "code",
      "metadata": {
        "id": "pv68rDgbN1O_",
        "colab_type": "code",
        "colab": {
          "base_uri": "https://localhost:8080/",
          "height": 301
        },
        "outputId": "f7d1e7fa-f381-44d1-f5f4-8e4049427f7c"
      },
      "source": [
        "plt.scatter(X[c1,0], X[c1,1], c='r')\n",
        "plt.scatter(X[c2,0], X[c2,1], c='b')\n",
        "plt.scatter(X[c3,0], X[c3,1], c='g')\n",
        "\n",
        "line = np.linspace(-15, 15)\n",
        "\n",
        "for coef, intercept, color in zip(linear_svm.coef_, linear_svm.intercept_, ['r','b','g']):\n",
        "    plt.plot(line, -(line*coef[0]+intercept)/coef[1], c=color)\n",
        "    \n",
        "plt.ylim(-10, 15)\n",
        "plt.xlim(-10, 8)\n",
        "plt.xlabel(\"Feature 0\")\n",
        "plt.ylabel(\"Feature 1\")\n",
        "plt.legend(['Class 0', 'Class 1', 'Class 2', 'Line class 0', 'Line class 1',\n",
        "            'Line class 2'], loc=(1.01, 0.3))"
      ],
      "execution_count": 54,
      "outputs": [
        {
          "output_type": "execute_result",
          "data": {
            "text/plain": [
              "<matplotlib.legend.Legend at 0x7f22982a6f28>"
            ]
          },
          "metadata": {
            "tags": []
          },
          "execution_count": 54
        },
        {
          "output_type": "display_data",
          "data": {
            "image/png": "[encoded data removed]",
            "text/plain": [
              "<Figure size 432x288 with 1 Axes>"
            ]
          },
          "metadata": {
            "tags": []
          }
        }
      ]
    },
    {
      "cell_type": "markdown",
      "metadata": {
        "id": "9QB3m8K8RVL7",
        "colab_type": "text"
      },
      "source": [
        "```\n",
        "y = a*x - b\n",
        "a = -W[0]/W[1]\n",
        "b = I[0]/W[1]\n",
        "```"
      ]
    },
    {
      "cell_type": "code",
      "metadata": {
        "id": "DzKIqw0bN9C8",
        "colab_type": "code",
        "colab": {
          "base_uri": "https://localhost:8080/",
          "height": 284
        },
        "outputId": "0fa9d171-e933-45b1-b137-e1d651524bce"
      },
      "source": [
        "mglearn.plots.plot_2d_classification(linear_svm, X, fill=True, alpha=0.5)\n",
        "plt.scatter(X[c1,0], X[c1,1], c='r')\n",
        "plt.scatter(X[c2,0], X[c2,1], c='b')\n",
        "plt.scatter(X[c3,0], X[c3,1], c='g')\n",
        "\n",
        "line = np.linspace(-15, 15)\n",
        "for coef, intercept, color in zip(linear_svm.coef_, linear_svm.intercept_, ['r','b','g']):\n",
        "    plt.plot(line, -(line*coef[0]+intercept)/coef[1], c=color)\n",
        "plt.ylim(-10, 15)\n",
        "plt.xlim(-10, 8)\n",
        "plt.xlabel(\"Feature 0\")\n",
        "plt.ylabel(\"Feature 1\")\n",
        "plt.legend(['Class 0', 'Class 1', 'Class 2', 'Line class 0', 'Line class 1',\n",
        "            'Line class 2'], loc=(1.01, 0.3))"
      ],
      "execution_count": 55,
      "outputs": [
        {
          "output_type": "execute_result",
          "data": {
            "text/plain": [
              "<matplotlib.legend.Legend at 0x7f2298235550>"
            ]
          },
          "metadata": {
            "tags": []
          },
          "execution_count": 55
        },
        {
          "output_type": "display_data",
          "data": {
            "image/png": "[encoded data removed]",
            "text/plain": [
              "<Figure size 432x288 with 1 Axes>"
            ]
          },
          "metadata": {
            "tags": []
          }
        }
      ]
    },
    {
      "cell_type": "code",
      "metadata": {
        "id": "jid8HRvoRydm",
        "colab_type": "code",
        "colab": {}
      },
      "source": [
        ""
      ],
      "execution_count": 0,
      "outputs": []
    },
    {
      "cell_type": "code",
      "metadata": {
        "id": "Kkhh8b0uMv9N",
        "colab_type": "code",
        "colab": {}
      },
      "source": [
        ""
      ],
      "execution_count": 0,
      "outputs": []
    }
  ]
}