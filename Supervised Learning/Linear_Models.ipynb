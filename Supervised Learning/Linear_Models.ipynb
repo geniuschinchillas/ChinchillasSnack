{
  "nbformat": 4,
  "nbformat_minor": 0,
  "metadata": {
    "colab": {
      "name": "Linear Models.ipynb",
      "version": "0.3.2",
      "provenance": [],
      "collapsed_sections": [],
      "include_colab_link": true
    },
    "kernelspec": {
      "name": "python3",
      "display_name": "Python 3"
    }
  },
  "cells": [
    {
      "cell_type": "markdown",
      "metadata": {
        "id": "view-in-github",
        "colab_type": "text"
      },
      "source": [
        "<a href=\"https://colab.research.google.com/github/geniuschinchillas/ChinchillasSnack/blob/master/Supervised%20Learning/Linear_Models.ipynb\" target=\"_parent\"><img src=\"https://colab.research.google.com/assets/colab-badge.svg\" alt=\"Open In Colab\"/></a>"
      ]
    },
    {
      "cell_type": "code",
      "metadata": {
        "id": "WAJq7RZq_bWb",
        "colab_type": "code",
        "colab": {}
      },
      "source": [
        "import pandas as pd\n",
        "import numpy as np\n",
        "import matplotlib.pyplot as plt\n",
        "import scipy.stats as stats\n",
        "import math\n",
        "from sklearn.datasets import samples_generator as sg"
      ],
      "execution_count": 0,
      "outputs": []
    },
    {
      "cell_type": "code",
      "metadata": {
        "id": "40IvvkhP_qX2",
        "colab_type": "code",
        "colab": {}
      },
      "source": [
        "%matplotlib inline"
      ],
      "execution_count": 0,
      "outputs": []
    },
    {
      "cell_type": "code",
      "metadata": {
        "id": "doTvAyLN_5Ck",
        "colab_type": "code",
        "colab": {}
      },
      "source": [
        "from sklearn.model_selection import train_test_split"
      ],
      "execution_count": 0,
      "outputs": []
    },
    {
      "cell_type": "code",
      "metadata": {
        "id": "8jbcmmnv__ZI",
        "colab_type": "code",
        "colab": {
          "base_uri": "https://localhost:8080/",
          "height": 105
        },
        "outputId": "9af4c035-5eca-4244-afcb-53c9a75fdcb1"
      },
      "source": [
        "import mglearn"
      ],
      "execution_count": 12,
      "outputs": [
        {
          "output_type": "stream",
          "text": [
            "/usr/local/lib/python3.6/dist-packages/sklearn/externals/six.py:31: DeprecationWarning: The module is deprecated in version 0.21 and will be removed in version 0.23 since we've dropped support for Python 2.7. Please rely on the official version of six (https://pypi.org/project/six/).\n",
            "  \"(https://pypi.org/project/six/).\", DeprecationWarning)\n",
            "/usr/local/lib/python3.6/dist-packages/sklearn/externals/joblib/__init__.py:15: DeprecationWarning: sklearn.externals.joblib is deprecated in 0.21 and will be removed in 0.23. Please import this functionality directly from joblib, which can be installed with: pip install joblib. If this warning is raised when loading pickled models, you may need to re-serialize those models with scikit-learn 0.21+.\n",
            "  warnings.warn(msg, category=DeprecationWarning)\n"
          ],
          "name": "stderr"
        }
      ]
    },
    {
      "cell_type": "markdown",
      "metadata": {
        "id": "l1xFtumiADPV",
        "colab_type": "text"
      },
      "source": [
        "**Linear Models**"
      ]
    },
    {
      "cell_type": "markdown",
      "metadata": {
        "id": "plZuswsqAGFT",
        "colab_type": "text"
      },
      "source": [
        "Linear models for regression"
      ]
    },
    {
      "cell_type": "code",
      "metadata": {
        "id": "bl0sJJbXABqE",
        "colab_type": "code",
        "colab": {}
      },
      "source": [
        "from sklearn.linear_model import LinearRegression"
      ],
      "execution_count": 0,
      "outputs": []
    },
    {
      "cell_type": "code",
      "metadata": {
        "id": "pd84pOzOAloZ",
        "colab_type": "code",
        "colab": {}
      },
      "source": [
        "from sklearn.datasets.samples_generator import make_regression"
      ],
      "execution_count": 0,
      "outputs": []
    },
    {
      "cell_type": "code",
      "metadata": {
        "id": "pABlKDr_AskY",
        "colab_type": "code",
        "colab": {}
      },
      "source": [
        "X, y, coef = make_regression(n_samples=60, n_features=1, n_informative=1, \n",
        "                            noise=10, coef=True, random_state=0)"
      ],
      "execution_count": 0,
      "outputs": []
    },
    {
      "cell_type": "code",
      "metadata": {
        "id": "D6ZponNOBUq9",
        "colab_type": "code",
        "outputId": "c3e424d0-3552-42d7-dfe0-271af235feae",
        "colab": {
          "base_uri": "https://localhost:8080/",
          "height": 51
        }
      },
      "source": [
        "print(X.shape)\n",
        "print(coef)"
      ],
      "execution_count": 16,
      "outputs": [
        {
          "output_type": "stream",
          "text": [
            "(60, 1)\n",
            "29.614019752214492\n"
          ],
          "name": "stdout"
        }
      ]
    },
    {
      "cell_type": "code",
      "metadata": {
        "id": "pjTaqEtZELFO",
        "colab_type": "code",
        "outputId": "377836a1-039b-4883-dbe3-0e1086210e21",
        "colab": {
          "base_uri": "https://localhost:8080/",
          "height": 221
        }
      },
      "source": [
        "print(y)"
      ],
      "execution_count": 17,
      "outputs": [
        {
          "output_type": "stream",
          "text": [
            "[ 13.96420455   3.23554172 -18.58442304  42.49774253  29.84594154\n",
            "   0.69334246 -56.58651801  20.06023862 -10.95037945 -40.22135965\n",
            "  18.52370062  47.66156114 -11.2760963  -27.87425514  -6.71565213\n",
            "  -7.67079125  48.70440245  61.50390984  -1.45013971 -11.02944183\n",
            "  66.51098598  11.14407485 -23.73067717  14.15407657   4.44278877\n",
            "  34.61134638 -41.51899017 -21.73900887   7.41492379 -47.80245657\n",
            " -21.95630211  30.09349139   8.65283141   9.77154116   6.07658361\n",
            " -41.74827997  -2.21321423 -21.37190545   3.56961894  14.02909127\n",
            "  65.0340129   37.65539089   8.3474392   -9.59368526 -37.02801674\n",
            " -34.34106968   2.6559067   22.23414768  11.09662376  20.93332858\n",
            "  54.4669501   35.624909   -17.88751974   2.20149974 -57.16737553\n",
            " -33.46260412  47.95114903 -16.55491754  45.00041122 -18.20688346]\n"
          ],
          "name": "stdout"
        }
      ]
    },
    {
      "cell_type": "code",
      "metadata": {
        "id": "IulBnd27ENFG",
        "colab_type": "code",
        "outputId": "bbc5a6da-7e40-4bbc-e8da-403841550616",
        "colab": {
          "base_uri": "https://localhost:8080/",
          "height": 286
        }
      },
      "source": [
        "plt.scatter(X, y)"
      ],
      "execution_count": 18,
      "outputs": [
        {
          "output_type": "execute_result",
          "data": {
            "text/plain": [
              "<matplotlib.collections.PathCollection at 0x7f3d81009860>"
            ]
          },
          "metadata": {
            "tags": []
          },
          "execution_count": 18
        },
        {
          "output_type": "display_data",
          "data": {
            "image/png": "[encoded data removed]",
            "text/plain": [
              "<Figure size 432x288 with 1 Axes>"
            ]
          },
          "metadata": {
            "tags": []
          }
        }
      ]
    },
    {
      "cell_type": "code",
      "metadata": {
        "id": "zxu6R-QmEQLw",
        "colab_type": "code",
        "colab": {}
      },
      "source": [
        "X_train, X_test, y_train, y_test = train_test_split(X,y,random_state=42)"
      ],
      "execution_count": 0,
      "outputs": []
    },
    {
      "cell_type": "code",
      "metadata": {
        "id": "Am1x_52yEal0",
        "colab_type": "code",
        "outputId": "e284050e-eae8-4974-f254-f5052b81f9c1",
        "colab": {
          "base_uri": "https://localhost:8080/",
          "height": 51
        }
      },
      "source": [
        "print(X_train.shape)\n",
        "print(y_train.shape)"
      ],
      "execution_count": 20,
      "outputs": [
        {
          "output_type": "stream",
          "text": [
            "(45, 1)\n",
            "(45,)\n"
          ],
          "name": "stdout"
        }
      ]
    },
    {
      "cell_type": "code",
      "metadata": {
        "id": "xOfetDtyEfTh",
        "colab_type": "code",
        "colab": {}
      },
      "source": [
        "lr = LinearRegression().fit(X_train, y_train)"
      ],
      "execution_count": 0,
      "outputs": []
    },
    {
      "cell_type": "code",
      "metadata": {
        "id": "KyO8DEBNEoRT",
        "colab_type": "code",
        "outputId": "4c81c61a-5e54-4f1b-c90d-ed71ce1ae13d",
        "colab": {
          "base_uri": "https://localhost:8080/",
          "height": 51
        }
      },
      "source": [
        "print(\"lr.coef_:\", lr.coef_)\n",
        "print(\"lr.intercept_:\", lr.intercept_)"
      ],
      "execution_count": 22,
      "outputs": [
        {
          "output_type": "stream",
          "text": [
            "lr.coef_: [27.834947]\n",
            "lr.intercept_: -0.4937913942790093\n"
          ],
          "name": "stdout"
        }
      ]
    },
    {
      "cell_type": "code",
      "metadata": {
        "id": "DLdy0GKpEzEm",
        "colab_type": "code",
        "outputId": "74bbec3a-2b28-4f35-8781-c2cb3fc08117",
        "colab": {
          "base_uri": "https://localhost:8080/",
          "height": 51
        }
      },
      "source": [
        "print(\"Training set score: {:.2f}\".format(lr.score(X_train, y_train)))\n",
        "print(\"Test set score: {:.2f}\".format(lr.score(X_test, y_test)))"
      ],
      "execution_count": 23,
      "outputs": [
        {
          "output_type": "stream",
          "text": [
            "Training set score: 0.92\n",
            "Test set score: 0.81\n"
          ],
          "name": "stdout"
        }
      ]
    },
    {
      "cell_type": "code",
      "metadata": {
        "id": "UtO-9KHoFSXz",
        "colab_type": "code",
        "outputId": "6f798603-f01c-4f6b-c058-beaba7870151",
        "colab": {
          "base_uri": "https://localhost:8080/",
          "height": 286
        }
      },
      "source": [
        "plt.scatter(X_train, y_train, c='g')\n",
        "plt.scatter(X_test, y_test, c='b')\n",
        "#plt.scatter(X_test, lr.predict(X_test), c='r')\n",
        "line = np.linspace(-3, 3, 1000).reshape(-1,1)\n",
        "plt.plot(line, lr.predict(line), c='r')"
      ],
      "execution_count": 24,
      "outputs": [
        {
          "output_type": "execute_result",
          "data": {
            "text/plain": [
              "[<matplotlib.lines.Line2D at 0x7f3d7e7a97b8>]"
            ]
          },
          "metadata": {
            "tags": []
          },
          "execution_count": 24
        },
        {
          "output_type": "display_data",
          "data": {
            "image/png": "[encoded data removed]",
            "text/plain": [
              "<Figure size 432x288 with 1 Axes>"
            ]
          },
          "metadata": {
            "tags": []
          }
        }
      ]
    },
    {
      "cell_type": "code",
      "metadata": {
        "id": "BU4WY2aXFVNK",
        "colab_type": "code",
        "colab": {}
      },
      "source": [
        "from sklearn.datasets import load_boston\n",
        "from sklearn.preprocessing import MinMaxScaler, PolynomialFeatures"
      ],
      "execution_count": 0,
      "outputs": []
    },
    {
      "cell_type": "code",
      "metadata": {
        "id": "VtxUftZlFa49",
        "colab_type": "code",
        "colab": {}
      },
      "source": [
        "boston = load_boston()\n",
        "X = boston.data\n",
        "\n",
        "X = MinMaxScaler().fit_transform(boston.data)\n",
        "X = PolynomialFeatures(degree=2, include_bias=False).fit_transform(X)\n",
        "y = boston.target"
      ],
      "execution_count": 0,
      "outputs": []
    },
    {
      "cell_type": "code",
      "metadata": {
        "id": "h6ePvrzpFcaJ",
        "colab_type": "code",
        "outputId": "a9bfe306-02b0-4555-f84a-f50515566d39",
        "colab": {
          "base_uri": "https://localhost:8080/",
          "height": 51
        }
      },
      "source": [
        "print(X.shape)\n",
        "print(y.shape)"
      ],
      "execution_count": 27,
      "outputs": [
        {
          "output_type": "stream",
          "text": [
            "(506, 104)\n",
            "(506,)\n"
          ],
          "name": "stdout"
        }
      ]
    },
    {
      "cell_type": "code",
      "metadata": {
        "id": "BruzJo_WFfUX",
        "colab_type": "code",
        "colab": {}
      },
      "source": [
        "X_train, X_test, y_train, y_test = train_test_split(X, y, random_state=0)"
      ],
      "execution_count": 0,
      "outputs": []
    },
    {
      "cell_type": "code",
      "metadata": {
        "id": "39t-fDs3Fj4M",
        "colab_type": "code",
        "colab": {}
      },
      "source": [
        "lr = LinearRegression().fit(X_train, y_train)"
      ],
      "execution_count": 0,
      "outputs": []
    },
    {
      "cell_type": "code",
      "metadata": {
        "id": "TmZyiSp2FlGy",
        "colab_type": "code",
        "outputId": "bdbe77b6-dcec-418c-b0db-a775ed90e926",
        "colab": {
          "base_uri": "https://localhost:8080/",
          "height": 51
        }
      },
      "source": [
        "print(\"Training set score: {:.2f}\".format(lr.score(X_train, y_train)))\n",
        "print(\"Test set score: {:.2f}\".format(lr.score(X_test, y_test)))"
      ],
      "execution_count": 30,
      "outputs": [
        {
          "output_type": "stream",
          "text": [
            "Training set score: 0.95\n",
            "Test set score: 0.61\n"
          ],
          "name": "stdout"
        }
      ]
    },
    {
      "cell_type": "markdown",
      "metadata": {
        "id": "k4x5g5YZHpwh",
        "colab_type": "text"
      },
      "source": [
        "Linear Regression Solve Directly"
      ]
    },
    {
      "cell_type": "markdown",
      "metadata": {
        "id": "yUGMWX4GpEin",
        "colab_type": "text"
      },
      "source": [
        ">The first approach is to attempt to solve the regression problem directly.\n",
        "\n",
        ">That is, given X, what are the set of coefficients b that when multiplied by X will give y. As we saw in a previous section, the normal equations define how to calculate b directly.\n",
        "\n",
        ">```b = (X^T . X)^-1 . X^T . y```\n",
        "\n",
        ">This can be calculated directly in NumPy using the inv() function for calculating the matrix inverse.\n",
        "\n",
        ">```b = inv(X.T.dot(X)).dot(X.T).dot(y)```\n",
        "\n",
        ">Once the coefficients are calculated, we can use them to predict outcomes given X."
      ]
    },
    {
      "cell_type": "code",
      "metadata": {
        "id": "SL5cqFyiHy-6",
        "colab_type": "code",
        "colab": {}
      },
      "source": [
        "from numpy import array\n",
        "from numpy.linalg import inv"
      ],
      "execution_count": 0,
      "outputs": []
    },
    {
      "cell_type": "code",
      "metadata": {
        "id": "zgzfme72Hr3o",
        "colab_type": "code",
        "colab": {
          "base_uri": "https://localhost:8080/",
          "height": 102
        },
        "outputId": "29b25c72-5cd9-4298-c097-76ae2139c89c"
      },
      "source": [
        "data = array([\n",
        "    [0.05, 0.12],\n",
        "    [0.18, 0.22],\n",
        "    [0.31, 0.35],\n",
        "    [0.42, 0.38],\n",
        "    [0.5, 0.49]\n",
        "])\n",
        "print(data)"
      ],
      "execution_count": 32,
      "outputs": [
        {
          "output_type": "stream",
          "text": [
            "[[0.05 0.12]\n",
            " [0.18 0.22]\n",
            " [0.31 0.35]\n",
            " [0.42 0.38]\n",
            " [0.5  0.49]]\n"
          ],
          "name": "stdout"
        }
      ]
    },
    {
      "cell_type": "code",
      "metadata": {
        "id": "KJlaXI2zHucn",
        "colab_type": "code",
        "colab": {
          "base_uri": "https://localhost:8080/",
          "height": 68
        },
        "outputId": "91b6de04-fcff-44a5-810e-d7cf7fc391d0"
      },
      "source": [
        "X, y =data[:,0], data[:,1]\n",
        "print(X)\n",
        "print(\"X shape: \", X.shape)\n",
        "print(y)"
      ],
      "execution_count": 33,
      "outputs": [
        {
          "output_type": "stream",
          "text": [
            "[0.05 0.18 0.31 0.42 0.5 ]\n",
            "X shape:  (5,)\n",
            "[0.12 0.22 0.35 0.38 0.49]\n"
          ],
          "name": "stdout"
        }
      ]
    },
    {
      "cell_type": "code",
      "metadata": {
        "id": "mX_7zJ_JIA_d",
        "colab_type": "code",
        "colab": {
          "base_uri": "https://localhost:8080/",
          "height": 119
        },
        "outputId": "d3e4309d-bdb9-45bf-afb2-7136a0ed70a0"
      },
      "source": [
        "X = X.reshape((len(X), 1))\n",
        "print(X)\n",
        "print(\"X shape: \", X.shape)"
      ],
      "execution_count": 34,
      "outputs": [
        {
          "output_type": "stream",
          "text": [
            "[[0.05]\n",
            " [0.18]\n",
            " [0.31]\n",
            " [0.42]\n",
            " [0.5 ]]\n",
            "X shape:  (5, 1)\n"
          ],
          "name": "stdout"
        }
      ]
    },
    {
      "cell_type": "code",
      "metadata": {
        "id": "9rsWcz37ISyF",
        "colab_type": "code",
        "colab": {
          "base_uri": "https://localhost:8080/",
          "height": 269
        },
        "outputId": "ec85e354-6314-417d-f8c2-b97aab1a0416"
      },
      "source": [
        "plt.scatter(X, y)\n",
        "plt.show()"
      ],
      "execution_count": 35,
      "outputs": [
        {
          "output_type": "display_data",
          "data": {
            "image/png": "[encoded data removed]",
            "text/plain": [
              "<Figure size 432x288 with 1 Axes>"
            ]
          },
          "metadata": {
            "tags": []
          }
        }
      ]
    },
    {
      "cell_type": "code",
      "metadata": {
        "id": "fbCLpFL1LTUx",
        "colab_type": "code",
        "colab": {
          "base_uri": "https://localhost:8080/",
          "height": 187
        },
        "outputId": "29801674-96fc-47c2-c668-f171b85f51e4"
      },
      "source": [
        "print(X)\n",
        "print(X.T)\n",
        "print(X.T.dot(X))\n",
        "print(inv(X.T.dot(X)))\n",
        "print(inv(X.T.dot(X)).dot(X.T))\n",
        "print(inv(X.T.dot(X)).dot(X.T).dot(y))"
      ],
      "execution_count": 36,
      "outputs": [
        {
          "output_type": "stream",
          "text": [
            "[[0.05]\n",
            " [0.18]\n",
            " [0.31]\n",
            " [0.42]\n",
            " [0.5 ]]\n",
            "[[0.05 0.18 0.31 0.42 0.5 ]]\n",
            "[[0.5574]]\n",
            "[[1.79404377]]\n",
            "[[0.08970219 0.32292788 0.55615357 0.75349839 0.89702189]]\n",
            "[1.00233226]\n"
          ],
          "name": "stdout"
        }
      ]
    },
    {
      "cell_type": "code",
      "metadata": {
        "id": "zK_TS9CmZFe9",
        "colab_type": "code",
        "colab": {
          "base_uri": "https://localhost:8080/",
          "height": 34
        },
        "outputId": "9f7783bf-5ef9-45e5-b63e-0d7ddb2dcb74"
      },
      "source": [
        "b = inv(X.T.dot(X)).dot(X.T).dot(y)\n",
        "print(b)"
      ],
      "execution_count": 37,
      "outputs": [
        {
          "output_type": "stream",
          "text": [
            "[1.00233226]\n"
          ],
          "name": "stdout"
        }
      ]
    },
    {
      "cell_type": "code",
      "metadata": {
        "id": "gS0ZOneYZHUW",
        "colab_type": "code",
        "colab": {
          "base_uri": "https://localhost:8080/",
          "height": 34
        },
        "outputId": "9f5df2bc-c33a-485c-837c-6cfb58aa245e"
      },
      "source": [
        "yhat = X.dot(b)\n",
        "print(yhat)"
      ],
      "execution_count": 38,
      "outputs": [
        {
          "output_type": "stream",
          "text": [
            "[0.05011661 0.18041981 0.310723   0.42097955 0.50116613]\n"
          ],
          "name": "stdout"
        }
      ]
    },
    {
      "cell_type": "code",
      "metadata": {
        "id": "wce2Z8KRZKsn",
        "colab_type": "code",
        "colab": {
          "base_uri": "https://localhost:8080/",
          "height": 269
        },
        "outputId": "4f9ed348-f359-4269-ad8c-80ed4be58507"
      },
      "source": [
        "plt.scatter(X, y)\n",
        "plt.plot(X, yhat, color='red')\n",
        "plt.show()"
      ],
      "execution_count": 39,
      "outputs": [
        {
          "output_type": "display_data",
          "data": {
            "image/png": "[encoded data removed]",
            "text/plain": [
              "<Figure size 432x288 with 1 Axes>"
            ]
          },
          "metadata": {
            "tags": []
          }
        }
      ]
    },
    {
      "cell_type": "code",
      "metadata": {
        "id": "OrTAarh5Q2H_",
        "colab_type": "code",
        "colab": {
          "base_uri": "https://localhost:8080/",
          "height": 51
        },
        "outputId": "0aff8702-4865-43e3-f664-be888fdd4859"
      },
      "source": [
        "a = np.array([[1., 2.], [3., 4.]])\n",
        "ainv = inv(a)\n",
        "print(ainv)"
      ],
      "execution_count": 40,
      "outputs": [
        {
          "output_type": "stream",
          "text": [
            "[[-2.   1. ]\n",
            " [ 1.5 -0.5]]\n"
          ],
          "name": "stdout"
        }
      ]
    },
    {
      "cell_type": "markdown",
      "metadata": {
        "id": "OnqysIRSavsf",
        "colab_type": "text"
      },
      "source": [
        "Linear Regression solve via QR Decomposition"
      ]
    },
    {
      "cell_type": "markdown",
      "metadata": {
        "id": "Zv5luWtsoeVr",
        "colab_type": "text"
      },
      "source": [
        ">The QR decomposition is an approach of breaking a matrix down into its constituent elements.\n",
        "\n",
        ">```A = Q . R```\n",
        "\n",
        "\n",
        ">Where A is the matrix that we wish to decompose, Q a matrix with the size m x m, and R is an upper triangle matrix with the size m x n.\n",
        "\n",
        ">The QR decomposition is a popular approach for solving the linear least squares equation.\n",
        "\n",
        ">Stepping over all of the derivation, the coefficients can be found using the Q and R elements as follows:\n",
        "\n",
        ">```b = R^-1 . Q.T . y```\n",
        "\n",
        "\n",
        ">The approach still involves a matrix inversion, but in this case only on the simpler R matrix."
      ]
    },
    {
      "cell_type": "code",
      "metadata": {
        "id": "udd6SNgya97I",
        "colab_type": "code",
        "colab": {}
      },
      "source": [
        "from numpy import array\n",
        "from numpy.linalg import inv\n",
        "from numpy.linalg import qr\n",
        "from matplotlib import pyplot"
      ],
      "execution_count": 0,
      "outputs": []
    },
    {
      "cell_type": "code",
      "metadata": {
        "id": "sKtLBYQjbS5g",
        "colab_type": "code",
        "colab": {}
      },
      "source": [
        "data = array([\n",
        "[0.05, 0.12],\n",
        "[0.18, 0.22],\n",
        "[0.31, 0.35],\n",
        "[0.42, 0.38],\n",
        "[0.5, 0.49],\n",
        "])"
      ],
      "execution_count": 0,
      "outputs": []
    },
    {
      "cell_type": "code",
      "metadata": {
        "id": "Z8MQmFqSbX--",
        "colab_type": "code",
        "colab": {}
      },
      "source": [
        "X, y = data[:,0], data[:,1]\n",
        "X = X.reshape((len(X), 1))"
      ],
      "execution_count": 0,
      "outputs": []
    },
    {
      "cell_type": "code",
      "metadata": {
        "id": "DSxlGl1Gba3r",
        "colab_type": "code",
        "colab": {
          "base_uri": "https://localhost:8080/",
          "height": 153
        },
        "outputId": "6a888805-76f5-4680-f5b5-45cff85f198e"
      },
      "source": [
        "Q, R = qr(X)\n",
        "print(Q)\n",
        "print('\\n')\n",
        "print(R)"
      ],
      "execution_count": 44,
      "outputs": [
        {
          "output_type": "stream",
          "text": [
            "[[-0.06697096]\n",
            " [-0.24109545]\n",
            " [-0.41521995]\n",
            " [-0.56255606]\n",
            " [-0.6697096 ]]\n",
            "\n",
            "\n",
            "[[-0.74659226]]\n"
          ],
          "name": "stdout"
        }
      ]
    },
    {
      "cell_type": "code",
      "metadata": {
        "id": "M05ZbWW8bhZM",
        "colab_type": "code",
        "colab": {
          "base_uri": "https://localhost:8080/",
          "height": 34
        },
        "outputId": "56fe18a2-d28a-4cad-a750-fbde5ecd89fa"
      },
      "source": [
        "b = inv(R).dot(Q.T).dot(y)\n",
        "print(b)"
      ],
      "execution_count": 45,
      "outputs": [
        {
          "output_type": "stream",
          "text": [
            "[1.00233226]\n"
          ],
          "name": "stdout"
        }
      ]
    },
    {
      "cell_type": "code",
      "metadata": {
        "id": "O_NpzZ0CQ2Ll",
        "colab_type": "code",
        "colab": {}
      },
      "source": [
        "yhat = X.dot(b)"
      ],
      "execution_count": 0,
      "outputs": []
    },
    {
      "cell_type": "code",
      "metadata": {
        "id": "xijM0J-FNVS9",
        "colab_type": "code",
        "colab": {
          "base_uri": "https://localhost:8080/",
          "height": 269
        },
        "outputId": "deb5785d-84f6-4004-ac99-b30bbeb28040"
      },
      "source": [
        "pyplot.scatter(X, y)\n",
        "pyplot.plot(X, yhat, color='red')\n",
        "pyplot.show()"
      ],
      "execution_count": 47,
      "outputs": [
        {
          "output_type": "display_data",
          "data": {
            "image/png": "[encoded data removed]",
            "text/plain": [
              "<Figure size 432x288 with 1 Axes>"
            ]
          },
          "metadata": {
            "tags": []
          }
        }
      ]
    },
    {
      "cell_type": "markdown",
      "metadata": {
        "id": "OEjMDAzFb5va",
        "colab_type": "text"
      },
      "source": [
        "Linear Regression solve via Singular-Value Decomposition"
      ]
    },
    {
      "cell_type": "markdown",
      "metadata": {
        "id": "sl61oajGjJtV",
        "colab_type": "text"
      },
      "source": [
        "> The Singular-Value Decomposition, or SVD for short, is a matrix decomposition method like the QR decomposition.\n",
        "\n",
        "> ```X = U . Sigma . V^*  ```\n",
        "\n",
        "> Where X is the real n x m matrix that we wish to decompose, U is a m x m matrix, Sigma (often represented by the uppercase Greek letter Sigma) is an m x n diagonal matrix, and V^* is the conjugate transpose of an n x n matrix where * is a superscript.\n",
        "\n",
        "> Unlike the QR decomposition, all matrices have an SVD decomposition. As a basis for solving the system of linear equations for linear regression, SVD is more stable and the preferred approach.\n",
        "\n",
        "> Once decomposed, the coefficients can be found by calculating the pseudoinverse of the input matrix X and multiplying that by the output vector y.\n",
        "\n",
        "> ``` b = X^+ . y ```\n",
        "\n",
        ">Where the pseudoinverse is calculated as following:\n",
        "\n",
        ">``` X^+ = U . D^+ . V^T ```\n",
        "\n",
        "> Where X^+ is the pseudoinverse of X and the + is a superscript, D^+ is the pseudoinverse of the diagonal matrix Sigma and V^T is the transpose of V^*.\n",
        "\n",
        "> We can get U and V from the SVD operation. D^+ can be calculated by creating a diagonal matrix from Sigma and calculating the reciprocal of each non-zero element in Sigma.\n"
      ]
    },
    {
      "cell_type": "code",
      "metadata": {
        "id": "GkAaHLL3b1T3",
        "colab_type": "code",
        "colab": {}
      },
      "source": [
        "from numpy import array\n",
        "from numpy.linalg import pinv\n",
        "from matplotlib import pyplot"
      ],
      "execution_count": 0,
      "outputs": []
    },
    {
      "cell_type": "code",
      "metadata": {
        "id": "XJUm0Sb2cKxg",
        "colab_type": "code",
        "colab": {}
      },
      "source": [
        "data = array([\n",
        "\t[0.05, 0.12],\n",
        "\t[0.18, 0.22],\n",
        "\t[0.31, 0.35],\n",
        "\t[0.42, 0.38],\n",
        "\t[0.5, 0.49],\n",
        "\t])"
      ],
      "execution_count": 0,
      "outputs": []
    },
    {
      "cell_type": "code",
      "metadata": {
        "id": "8dFwXgghcNrJ",
        "colab_type": "code",
        "colab": {}
      },
      "source": [
        "X, y = data[:,0], data[:,1]\n",
        "X = X.reshape((len(X), 1))"
      ],
      "execution_count": 0,
      "outputs": []
    },
    {
      "cell_type": "code",
      "metadata": {
        "id": "o7ROLnvUcR7U",
        "colab_type": "code",
        "colab": {
          "base_uri": "https://localhost:8080/",
          "height": 34
        },
        "outputId": "87d52493-9817-4626-da5d-e6f6cbacfdce"
      },
      "source": [
        "b = pinv(X).dot(y)\n",
        "print(b)"
      ],
      "execution_count": 51,
      "outputs": [
        {
          "output_type": "stream",
          "text": [
            "[1.00233226]\n"
          ],
          "name": "stdout"
        }
      ]
    },
    {
      "cell_type": "code",
      "metadata": {
        "id": "vjwi7vVhcTzf",
        "colab_type": "code",
        "colab": {}
      },
      "source": [
        "yhat = X.dot(b)"
      ],
      "execution_count": 0,
      "outputs": []
    },
    {
      "cell_type": "code",
      "metadata": {
        "id": "VxPImEaqcYGL",
        "colab_type": "code",
        "colab": {
          "base_uri": "https://localhost:8080/",
          "height": 269
        },
        "outputId": "aa1c961f-c35e-4209-acb6-d040543c5199"
      },
      "source": [
        "pyplot.scatter(X, y)\n",
        "pyplot.plot(X, yhat, color='red')\n",
        "pyplot.show()"
      ],
      "execution_count": 53,
      "outputs": [
        {
          "output_type": "display_data",
          "data": {
            "image/png": "[encoded data removed]",
            "text/plain": [
              "<Figure size 432x288 with 1 Axes>"
            ]
          },
          "metadata": {
            "tags": []
          }
        }
      ]
    },
    {
      "cell_type": "markdown",
      "metadata": {
        "id": "bZsaDShIFqX7",
        "colab_type": "text"
      },
      "source": [
        "Ridge regression"
      ]
    },
    {
      "cell_type": "code",
      "metadata": {
        "id": "9rvwdtSEFmh1",
        "colab_type": "code",
        "colab": {}
      },
      "source": [
        "from sklearn.linear_model import Ridge"
      ],
      "execution_count": 0,
      "outputs": []
    },
    {
      "cell_type": "code",
      "metadata": {
        "id": "1Rla1bcHFuPN",
        "colab_type": "code",
        "outputId": "a81f8e57-fbcf-48ed-9baa-f1ec4e49f8a7",
        "colab": {
          "base_uri": "https://localhost:8080/",
          "height": 51
        }
      },
      "source": [
        "ridge = Ridge().fit(X_train, y_train)\n",
        "print(\"Training set score: {:.2f}\".format(ridge.score(X_train, y_train)))\n",
        "print(\"Test set score: {:.2f}\".format(ridge.score(X_test, y_test)))"
      ],
      "execution_count": 55,
      "outputs": [
        {
          "output_type": "stream",
          "text": [
            "Training set score: 0.89\n",
            "Test set score: 0.75\n"
          ],
          "name": "stdout"
        }
      ]
    },
    {
      "cell_type": "code",
      "metadata": {
        "id": "9kbI0St1GIeg",
        "colab_type": "code",
        "outputId": "d85c1bdf-61de-4235-ced9-972b93785bd8",
        "colab": {
          "base_uri": "https://localhost:8080/",
          "height": 51
        }
      },
      "source": [
        "ridge10 = Ridge(alpha=10).fit(X_train, y_train)\n",
        "print(\"Training set score: {:.2f}\".format(ridge10.score(X_train, y_train)))\n",
        "print(\"Test set score: {:.2f}\".format(ridge10.score(X_test, y_test)))"
      ],
      "execution_count": 56,
      "outputs": [
        {
          "output_type": "stream",
          "text": [
            "Training set score: 0.79\n",
            "Test set score: 0.64\n"
          ],
          "name": "stdout"
        }
      ]
    },
    {
      "cell_type": "code",
      "metadata": {
        "id": "pz14zI6MGKRb",
        "colab_type": "code",
        "outputId": "67746def-297f-4c0b-f8fb-3b5e60eaed48",
        "colab": {
          "base_uri": "https://localhost:8080/",
          "height": 51
        }
      },
      "source": [
        "ridge01 = Ridge(alpha=0.1).fit(X_train, y_train)\n",
        "print(\"Training set score: {:.2f}\".format(ridge01.score(X_train, y_train)))\n",
        "print(\"Test set score: {:.2f}\".format(ridge01.score(X_test, y_test)))"
      ],
      "execution_count": 57,
      "outputs": [
        {
          "output_type": "stream",
          "text": [
            "Training set score: 0.93\n",
            "Test set score: 0.77\n"
          ],
          "name": "stdout"
        }
      ]
    },
    {
      "cell_type": "code",
      "metadata": {
        "id": "j2KPdxBhGLtk",
        "colab_type": "code",
        "outputId": "02547470-4124-4295-c9f2-138b35ea3a7b",
        "colab": {
          "base_uri": "https://localhost:8080/",
          "height": 300
        }
      },
      "source": [
        "plt.plot(ridge.coef_, 's',label=\"Ridge alpha=1\")\n",
        "plt.plot(ridge10.coef_, '^', label=\"Ridge alpha=10\")\n",
        "plt.plot(ridge01.coef_, 'v', label=\"Ridge alpha=0.1\")\n",
        "\n",
        "plt.plot(lr.coef_, 'o', label=\"LinearRegression\")\n",
        "plt.xlabel(\"Coefficient index\")\n",
        "plt.ylabel(\"Coefficient magnitude\")\n",
        "xlims = plt.xlim()\n",
        "plt.hlines(0, xlims[0], xlims[1])\n",
        "plt.xlim(xlims)\n",
        "plt.ylim(-25, 25)\n",
        "plt.legend()"
      ],
      "execution_count": 58,
      "outputs": [
        {
          "output_type": "execute_result",
          "data": {
            "text/plain": [
              "<matplotlib.legend.Legend at 0x7f3d7c593438>"
            ]
          },
          "metadata": {
            "tags": []
          },
          "execution_count": 58
        },
        {
          "output_type": "display_data",
          "data": {
            "image/png": "[encoded data removed]",
            "text/plain": [
              "<Figure size 432x288 with 1 Axes>"
            ]
          },
          "metadata": {
            "tags": []
          }
        }
      ]
    },
    {
      "cell_type": "code",
      "metadata": {
        "id": "ekraXntvqbxu",
        "colab_type": "code",
        "colab": {}
      },
      "source": [
        "from sklearn.datasets import load_boston\n"
      ],
      "execution_count": 0,
      "outputs": []
    },
    {
      "cell_type": "code",
      "metadata": {
        "id": "_Jjdg8avqpaK",
        "colab_type": "code",
        "colab": {
          "base_uri": "https://localhost:8080/",
          "height": 173
        },
        "outputId": "8fb9bd4c-4994-48b2-a2ec-d7bfed78b0ad"
      },
      "source": [
        "boston = load_boston()\n",
        "boston_df = pd.DataFrame(boston.data, columns=boston.feature_names)\n",
        "#print(boston_df.info)\n",
        "print(boston_df.head())"
      ],
      "execution_count": 61,
      "outputs": [
        {
          "output_type": "stream",
          "text": [
            "      CRIM    ZN  INDUS  CHAS    NOX  ...  RAD    TAX  PTRATIO       B  LSTAT\n",
            "0  0.00632  18.0   2.31   0.0  0.538  ...  1.0  296.0     15.3  396.90   4.98\n",
            "1  0.02731   0.0   7.07   0.0  0.469  ...  2.0  242.0     17.8  396.90   9.14\n",
            "2  0.02729   0.0   7.07   0.0  0.469  ...  2.0  242.0     17.8  392.83   4.03\n",
            "3  0.03237   0.0   2.18   0.0  0.458  ...  3.0  222.0     18.7  394.63   2.94\n",
            "4  0.06905   0.0   2.18   0.0  0.458  ...  3.0  222.0     18.7  396.90   5.33\n",
            "\n",
            "[5 rows x 13 columns]\n"
          ],
          "name": "stdout"
        }
      ]
    },
    {
      "cell_type": "code",
      "metadata": {
        "id": "eOnSm9pWrs3T",
        "colab_type": "code",
        "colab": {
          "base_uri": "https://localhost:8080/",
          "height": 173
        },
        "outputId": "aaf3861b-dc22-48d2-b42e-1afbcc93fa2b"
      },
      "source": [
        "boston_df['Price'] = boston.target\n",
        "print(boston_df.head())"
      ],
      "execution_count": 62,
      "outputs": [
        {
          "output_type": "stream",
          "text": [
            "      CRIM    ZN  INDUS  CHAS    NOX  ...    TAX  PTRATIO       B  LSTAT  Price\n",
            "0  0.00632  18.0   2.31   0.0  0.538  ...  296.0     15.3  396.90   4.98   24.0\n",
            "1  0.02731   0.0   7.07   0.0  0.469  ...  242.0     17.8  396.90   9.14   21.6\n",
            "2  0.02729   0.0   7.07   0.0  0.469  ...  242.0     17.8  392.83   4.03   34.7\n",
            "3  0.03237   0.0   2.18   0.0  0.458  ...  222.0     18.7  394.63   2.94   33.4\n",
            "4  0.06905   0.0   2.18   0.0  0.458  ...  222.0     18.7  396.90   5.33   36.2\n",
            "\n",
            "[5 rows x 14 columns]\n"
          ],
          "name": "stdout"
        }
      ]
    },
    {
      "cell_type": "code",
      "metadata": {
        "id": "7mh9w08fsapR",
        "colab_type": "code",
        "colab": {}
      },
      "source": [
        "newX = boston_df.drop('Price', axis=1)\n",
        "newY = boston_df['Price']"
      ],
      "execution_count": 0,
      "outputs": []
    },
    {
      "cell_type": "code",
      "metadata": {
        "id": "HwoG7ifKsr1I",
        "colab_type": "code",
        "colab": {
          "base_uri": "https://localhost:8080/",
          "height": 51
        },
        "outputId": "2b9b9ae7-dcca-4122-a448-64f9e105e745"
      },
      "source": [
        "X_train, X_test, y_train, y_test = train_test_split(newX, newY, \n",
        "                                                    test_size=0.3,\n",
        "                                                    random_state=3)\n",
        "print(len(X_test))\n",
        "print(len(y_test))"
      ],
      "execution_count": 64,
      "outputs": [
        {
          "output_type": "stream",
          "text": [
            "152\n",
            "152\n"
          ],
          "name": "stdout"
        }
      ]
    },
    {
      "cell_type": "code",
      "metadata": {
        "id": "5oG6J3WEvDyO",
        "colab_type": "code",
        "colab": {
          "base_uri": "https://localhost:8080/",
          "height": 54
        },
        "outputId": "73d6fdae-c372-456e-db2a-ae635f5f89f2"
      },
      "source": [
        "lr = LinearRegression()\n",
        "lr.fit(X_train, y_train)"
      ],
      "execution_count": 65,
      "outputs": [
        {
          "output_type": "execute_result",
          "data": {
            "text/plain": [
              "LinearRegression(copy_X=True, fit_intercept=True, n_jobs=None, normalize=False)"
            ]
          },
          "metadata": {
            "tags": []
          },
          "execution_count": 65
        }
      ]
    },
    {
      "cell_type": "code",
      "metadata": {
        "id": "Nhg51Ba5vNt3",
        "colab_type": "code",
        "colab": {
          "base_uri": "https://localhost:8080/",
          "height": 51
        },
        "outputId": "4aecbfbb-9dc5-409e-f872-f8839e7f1c92"
      },
      "source": [
        "rr = Ridge(alpha=0.01)\n",
        "rr.fit(X_train, y_train)"
      ],
      "execution_count": 66,
      "outputs": [
        {
          "output_type": "execute_result",
          "data": {
            "text/plain": [
              "Ridge(alpha=0.01, copy_X=True, fit_intercept=True, max_iter=None,\n",
              "      normalize=False, random_state=None, solver='auto', tol=0.001)"
            ]
          },
          "metadata": {
            "tags": []
          },
          "execution_count": 66
        }
      ]
    },
    {
      "cell_type": "code",
      "metadata": {
        "id": "7jcKove4vXLr",
        "colab_type": "code",
        "colab": {
          "base_uri": "https://localhost:8080/",
          "height": 51
        },
        "outputId": "6e47ed55-f812-4c53-c8ca-81d4d6b63350"
      },
      "source": [
        "rr100 = Ridge(alpha=100)\n",
        "rr100.fit(X_train, y_train)"
      ],
      "execution_count": 67,
      "outputs": [
        {
          "output_type": "execute_result",
          "data": {
            "text/plain": [
              "Ridge(alpha=100, copy_X=True, fit_intercept=True, max_iter=None,\n",
              "      normalize=False, random_state=None, solver='auto', tol=0.001)"
            ]
          },
          "metadata": {
            "tags": []
          },
          "execution_count": 67
        }
      ]
    },
    {
      "cell_type": "code",
      "metadata": {
        "id": "hgwMJeslvduR",
        "colab_type": "code",
        "colab": {
          "base_uri": "https://localhost:8080/",
          "height": 288
        },
        "outputId": "6ec0c767-7340-4965-cc7b-4698b204517a"
      },
      "source": [
        "plt.plot(rr.coef_,alpha=0.7,linestyle='none',marker='*',\n",
        "         markersize=5,color='red',label=r'Ridge; $\\alpha = 0.01$',\n",
        "         zorder=7) \n",
        "plt.plot(rr100.coef_,alpha=0.5,linestyle='none',marker='d',\n",
        "         markersize=6,color='blue',label=r'Ridge; $\\alpha = 100$')\n",
        "plt.plot(lr.coef_,alpha=0.4,linestyle='none',marker='o',\n",
        "         markersize=7,color='green',label='Linear Regression')\n",
        "\n",
        "plt.xlabel('Coefficient Index',fontsize=16)\n",
        "plt.ylabel('Coefficient Magnitude',fontsize=16)\n",
        "plt.legend(fontsize=13,loc=4)\n",
        "plt.show()"
      ],
      "execution_count": 68,
      "outputs": [
        {
          "output_type": "display_data",
          "data": {
            "image/png": "[encoded data removed]",
            "text/plain": [
              "<Figure size 432x288 with 1 Axes>"
            ]
          },
          "metadata": {
            "tags": []
          }
        }
      ]
    },
    {
      "cell_type": "markdown",
      "metadata": {
        "id": "t5pdJMsrG6km",
        "colab_type": "text"
      },
      "source": [
        "Lasso"
      ]
    },
    {
      "cell_type": "code",
      "metadata": {
        "id": "VXm3q_BfG4Ov",
        "colab_type": "code",
        "colab": {}
      },
      "source": [
        "from sklearn.linear_model import Lasso"
      ],
      "execution_count": 0,
      "outputs": []
    },
    {
      "cell_type": "code",
      "metadata": {
        "id": "lzJHxw6VG83h",
        "colab_type": "code",
        "outputId": "8a455712-1e28-466c-907b-ae4f2ad9c4e4",
        "colab": {
          "base_uri": "https://localhost:8080/",
          "height": 68
        }
      },
      "source": [
        "lasso = Lasso().fit(X_train, y_train)\n",
        "print(\"Training set score: {:.2f}\".format(lasso.score(X_train, y_train)))\n",
        "print(\"Test set score: {:.2f}\".format(lasso.score(X_test, y_test)))\n",
        "print(\"Number of features used:\", np.sum(lasso.coef_ != 0))"
      ],
      "execution_count": 34,
      "outputs": [
        {
          "output_type": "stream",
          "text": [
            "Training set score: 0.29\n",
            "Test set score: 0.21\n",
            "Number of features used: 4\n"
          ],
          "name": "stdout"
        }
      ]
    },
    {
      "cell_type": "code",
      "metadata": {
        "id": "_gdvJ-opG-eR",
        "colab_type": "code",
        "outputId": "700c0e6f-5671-497e-9fc9-8193ed138e6d",
        "colab": {
          "base_uri": "https://localhost:8080/",
          "height": 504
        }
      },
      "source": [
        "alphas = [0.01, 0.001, 0.0001]\n",
        "symbols = ['s', '^', 'v']\n",
        "for alpha, symbol in zip(alphas, symbols):\n",
        "    lasso = Lasso(alpha = alpha, max_iter=100000).fit(X_train, y_train)\n",
        "    print(\"Training set score: {:.2f}\".format(lasso.score(X_train, y_train)))\n",
        "    print(\"Test set score: {:.2f}\".format(lasso.score(X_test, y_test)))\n",
        "    print(\"Number of features used:\", np.sum(lasso.coef_ != 0), '\\n')\n",
        "    \n",
        "    plt.plot(lasso.coef_, symbol)\n",
        "    \n",
        "plt.ylim(-25, 25)\n",
        "plt.xlabel(\"Coefficient index\")\n",
        "plt.ylabel(\"Coefficient magnitude\")"
      ],
      "execution_count": 35,
      "outputs": [
        {
          "output_type": "stream",
          "text": [
            "Training set score: 0.90\n",
            "Test set score: 0.77\n",
            "Number of features used: 33 \n",
            "\n",
            "Training set score: 0.94\n",
            "Test set score: 0.74\n",
            "Number of features used: 67 \n",
            "\n",
            "Training set score: 0.95\n",
            "Test set score: 0.64\n",
            "Number of features used: 96 \n",
            "\n"
          ],
          "name": "stdout"
        },
        {
          "output_type": "execute_result",
          "data": {
            "text/plain": [
              "Text(0, 0.5, 'Coefficient magnitude')"
            ]
          },
          "metadata": {
            "tags": []
          },
          "execution_count": 35
        },
        {
          "output_type": "display_data",
          "data": {
            "image/png": "[encoded data removed]",
            "text/plain": [
              "<Figure size 432x288 with 1 Axes>"
            ]
          },
          "metadata": {
            "tags": []
          }
        }
      ]
    },
    {
      "cell_type": "code",
      "metadata": {
        "id": "HuSJb00nxfk5",
        "colab_type": "code",
        "colab": {}
      },
      "source": [
        "import math"
      ],
      "execution_count": 0,
      "outputs": []
    },
    {
      "cell_type": "code",
      "metadata": {
        "id": "C3cFUL2KxiMm",
        "colab_type": "code",
        "colab": {}
      },
      "source": [
        "from sklearn.linear_model import Lasso\n",
        "from sklearn.datasets import load_breast_cancer"
      ],
      "execution_count": 0,
      "outputs": []
    },
    {
      "cell_type": "code",
      "metadata": {
        "id": "4o25_bsix1mM",
        "colab_type": "code",
        "colab": {}
      },
      "source": [
        "cancer = load_breast_cancer()"
      ],
      "execution_count": 0,
      "outputs": []
    },
    {
      "cell_type": "code",
      "metadata": {
        "id": "uDsCVBzpyjzi",
        "colab_type": "code",
        "colab": {}
      },
      "source": [
        "cancer_df = pd.DataFrame(cancer.data, columns=cancer.feature_names)"
      ],
      "execution_count": 0,
      "outputs": []
    },
    {
      "cell_type": "code",
      "metadata": {
        "id": "WLNgKu5TysBB",
        "colab_type": "code",
        "colab": {}
      },
      "source": [
        "X = cancer.data\n",
        "Y = cancer.target"
      ],
      "execution_count": 0,
      "outputs": []
    },
    {
      "cell_type": "code",
      "metadata": {
        "id": "siZjMvlfyzla",
        "colab_type": "code",
        "colab": {}
      },
      "source": [
        "X_train, X_test, y_train, y_test = train_test_split(X, Y, test_size=0.3,\n",
        "                                                   random_state=31)"
      ],
      "execution_count": 0,
      "outputs": []
    },
    {
      "cell_type": "code",
      "metadata": {
        "id": "3BPO1GWWzBWC",
        "colab_type": "code",
        "colab": {}
      },
      "source": [
        "lasso = Lasso()\n",
        "lasso.fit(X_train, y_train)\n",
        "train_score = lasso.score(X_train, y_train)\n",
        "test_score = lasso.score(X_test, y_test)\n",
        "coeff_used = np.sum(lasso.coef_ != 0)"
      ],
      "execution_count": 0,
      "outputs": []
    },
    {
      "cell_type": "code",
      "metadata": {
        "id": "F1n4RH4qzuw0",
        "colab_type": "code",
        "colab": {
          "base_uri": "https://localhost:8080/",
          "height": 68
        },
        "outputId": "1fafcea2-7f7a-4f47-b3a1-01a791a72dcd"
      },
      "source": [
        "print(\"training score: \", train_score)\n",
        "print(\"test score: \", test_score)\n",
        "print(\"number of feature used: \", coeff_used)"
      ],
      "execution_count": 76,
      "outputs": [
        {
          "output_type": "stream",
          "text": [
            "training score:  0.5600974529893081\n",
            "test score:  0.5832244618818156\n",
            "number of feature used:  4\n"
          ],
          "name": "stdout"
        }
      ]
    },
    {
      "cell_type": "code",
      "metadata": {
        "id": "Jj4UEZGPz7bU",
        "colab_type": "code",
        "colab": {
          "base_uri": "https://localhost:8080/",
          "height": 68
        },
        "outputId": "f9925041-3c24-4123-c4c5-f2783f02ef3a"
      },
      "source": [
        "lasso001 = Lasso(alpha=0.01, max_iter=10e5)\n",
        "lasso001.fit(X_train,y_train)\n",
        "train_score001=lasso001.score(X_train,y_train)\n",
        "test_score001=lasso001.score(X_test,y_test)\n",
        "coeff_used001 = np.sum(lasso001.coef_!=0)\n",
        "print(\"training score for alpha=0.01:\", train_score001) \n",
        "print(\"test score for alpha =0.01: \", test_score001)\n",
        "print(\"number of features used: for alpha =0.01:\", coeff_used001)"
      ],
      "execution_count": 78,
      "outputs": [
        {
          "output_type": "stream",
          "text": [
            "training score for alpha=0.01: 0.7037865778498826\n",
            "test score for alpha =0.01:  0.6641831577726228\n",
            "number of features used: for alpha =0.01: 10\n"
          ],
          "name": "stdout"
        }
      ]
    },
    {
      "cell_type": "code",
      "metadata": {
        "id": "g2_lCkJE0HEp",
        "colab_type": "code",
        "colab": {
          "base_uri": "https://localhost:8080/",
          "height": 68
        },
        "outputId": "1392519b-227d-4341-ef99-82a5be0cae28"
      },
      "source": [
        "lasso00001 = Lasso(alpha=0.0001, max_iter=10e5)\n",
        "lasso00001.fit(X_train,y_train)\n",
        "train_score00001=lasso00001.score(X_train,y_train)\n",
        "test_score00001=lasso00001.score(X_test,y_test)\n",
        "coeff_used00001 = np.sum(lasso00001.coef_!=0)\n",
        "print(\"training score for alpha=0.0001:\", train_score00001) \n",
        "print(\"test score for alpha =0.0001: \", test_score00001)\n",
        "print(\"number of features used: for alpha =0.0001:\", coeff_used00001)"
      ],
      "execution_count": 80,
      "outputs": [
        {
          "output_type": "stream",
          "text": [
            "training score for alpha=0.0001: 0.7754092006936699\n",
            "test score for alpha =0.0001:  0.7318608210757908\n",
            "number of features used: for alpha =0.0001: 22\n"
          ],
          "name": "stdout"
        }
      ]
    },
    {
      "cell_type": "code",
      "metadata": {
        "id": "ltaM1KJm0SWi",
        "colab_type": "code",
        "colab": {
          "base_uri": "https://localhost:8080/",
          "height": 51
        },
        "outputId": "2be4508c-3604-4f14-9d99-066e5c986ca2"
      },
      "source": [
        "lr = LinearRegression()\n",
        "lr.fit(X_train,y_train)\n",
        "lr_train_score=lr.score(X_train,y_train)\n",
        "lr_test_score=lr.score(X_test,y_test)\n",
        "print(\"LR training score:\", lr_train_score) \n",
        "print(\"LR test score: \", lr_test_score)"
      ],
      "execution_count": 81,
      "outputs": [
        {
          "output_type": "stream",
          "text": [
            "LR training score: 0.7842206194055068\n",
            "LR test score:  0.7329325010888672\n"
          ],
          "name": "stdout"
        }
      ]
    },
    {
      "cell_type": "code",
      "metadata": {
        "id": "H60FYGRm0AVt",
        "colab_type": "code",
        "colab": {
          "base_uri": "https://localhost:8080/",
          "height": 297
        },
        "outputId": "8c7121ba-48a7-4dbe-f61d-5bac50b2dbeb"
      },
      "source": [
        "plt.subplot(1,2,1)\n",
        "plt.plot(lasso.coef_,alpha=0.7,linestyle='none',marker='*',markersize=5,color='red',label=r'Lasso; $\\alpha = 1$',zorder=7) # alpha here is for transparency\n",
        "plt.plot(lasso001.coef_,alpha=0.5,linestyle='none',marker='d',markersize=6,color='blue',label=r'Lasso; $\\alpha = 0.01$') # alpha here is for transparency\n",
        "\n",
        "plt.xlabel('Coefficient Index',fontsize=16)\n",
        "plt.ylabel('Coefficient Magnitude',fontsize=16)\n",
        "plt.legend(fontsize=13,loc=4)\n",
        "plt.subplot(1,2,2)\n",
        "plt.plot(lasso.coef_,alpha=0.7,linestyle='none',marker='*',markersize=5,color='red',label=r'Lasso; $\\alpha = 1$',zorder=7) # alpha here is for transparency\n",
        "plt.plot(lasso001.coef_,alpha=0.5,linestyle='none',marker='d',markersize=6,color='blue',label=r'Lasso; $\\alpha = 0.01$') # alpha here is for transparency\n",
        "plt.plot(lasso00001.coef_,alpha=0.8,linestyle='none',marker='v',markersize=6,color='black',label=r'Lasso; $\\alpha = 0.00001$') # alpha here is for transparency\n",
        "plt.plot(lr.coef_,alpha=0.7,linestyle='none',marker='o',markersize=5,color='green',label='Linear Regression',zorder=2)\n",
        "plt.xlabel('Coefficient Index',fontsize=16)\n",
        "plt.ylabel('Coefficient Magnitude',fontsize=16)\n",
        "plt.legend(fontsize=13,loc=4)\n",
        "plt.tight_layout()\n",
        "plt.show()"
      ],
      "execution_count": 83,
      "outputs": [
        {
          "output_type": "display_data",
          "data": {
            "image/png": "[encoded data removed]",
            "text/plain": [
              "<Figure size 432x288 with 2 Axes>"
            ]
          },
          "metadata": {
            "tags": []
          }
        }
      ]
    },
    {
      "cell_type": "code",
      "metadata": {
        "id": "Vt-vdUfk0nd1",
        "colab_type": "code",
        "colab": {}
      },
      "source": [
        ""
      ],
      "execution_count": 0,
      "outputs": []
    },
    {
      "cell_type": "markdown",
      "metadata": {
        "id": "Hydivzq6HIAJ",
        "colab_type": "text"
      },
      "source": [
        "Linear models for classification"
      ]
    },
    {
      "cell_type": "code",
      "metadata": {
        "id": "oD-ix5_NHAeD",
        "colab_type": "code",
        "colab": {}
      },
      "source": [
        "from sklearn.linear_model import LogisticRegression\n",
        "from sklearn.svm import LinearSVC"
      ],
      "execution_count": 0,
      "outputs": []
    },
    {
      "cell_type": "code",
      "metadata": {
        "id": "vntKSHI0IIEu",
        "colab_type": "code",
        "colab": {}
      },
      "source": [
        "from sklearn.datasets.samples_generator import make_blobs"
      ],
      "execution_count": 0,
      "outputs": []
    },
    {
      "cell_type": "code",
      "metadata": {
        "id": "thsZlE1HIeXR",
        "colab_type": "code",
        "outputId": "83f6c0d5-ec12-4f03-808f-3a7addcc1d41",
        "colab": {
          "base_uri": "https://localhost:8080/",
          "height": 303
        }
      },
      "source": [
        "X, y = make_blobs(n_samples=30, centers=2, random_state=4)\n",
        "print(X.shape)\n",
        "blues = y == 0\n",
        "reds = y == 1\n",
        "plt.scatter(X[blues,0], X[blues, 1])\n",
        "plt.scatter(X[reds,0], X[reds, 1])"
      ],
      "execution_count": 38,
      "outputs": [
        {
          "output_type": "stream",
          "text": [
            "(30, 2)\n"
          ],
          "name": "stdout"
        },
        {
          "output_type": "execute_result",
          "data": {
            "text/plain": [
              "<matplotlib.collections.PathCollection at 0x7f93d2c54438>"
            ]
          },
          "metadata": {
            "tags": []
          },
          "execution_count": 38
        },
        {
          "output_type": "display_data",
          "data": {
            "image/png": "[encoded data removed]",
            "text/plain": [
              "<Figure size 432x288 with 1 Axes>"
            ]
          },
          "metadata": {
            "tags": []
          }
        }
      ]
    },
    {
      "cell_type": "code",
      "metadata": {
        "id": "VNCndeu_I_nJ",
        "colab_type": "code",
        "outputId": "60608bc4-fe73-4f98-d672-780359996598",
        "colab": {
          "base_uri": "https://localhost:8080/",
          "height": 312
        }
      },
      "source": [
        "fig, axes = plt.subplots(1,2,figsize=(10,3))\n",
        "for model, ax in zip([LinearSVC(), LogisticRegression()], axes):\n",
        "  clf = model.fit(X, y)\n",
        "  \n",
        "  mglearn.plots.plot_2d_separator(clf, X, fill=False, eps=0.5,\n",
        "                                 ax=ax, alpha=0.7)\n",
        "  \n",
        "  ax.scatter(X[blues,0], X[blues,1])\n",
        "  ax.scatter(X[reds,0],X[reds,1])\n",
        "  ax.set_title(clf.__class__.__name__)\n",
        "  ax.set_xlabel(\"Feature 0\")\n",
        "  ax.set_ylabel(\"Feature 1\")"
      ],
      "execution_count": 39,
      "outputs": [
        {
          "output_type": "stream",
          "text": [
            "/usr/local/lib/python3.6/dist-packages/sklearn/svm/base.py:931: ConvergenceWarning: Liblinear failed to converge, increase the number of iterations.\n",
            "  \"the number of iterations.\", ConvergenceWarning)\n",
            "/usr/local/lib/python3.6/dist-packages/sklearn/linear_model/logistic.py:433: FutureWarning: Default solver will be changed to 'lbfgs' in 0.22. Specify a solver to silence this warning.\n",
            "  FutureWarning)\n"
          ],
          "name": "stderr"
        },
        {
          "output_type": "display_data",
          "data": {
            "image/png": "[encoded data removed]",
            "text/plain": [
              "<Figure size 720x216 with 2 Axes>"
            ]
          },
          "metadata": {
            "tags": []
          }
        }
      ]
    },
    {
      "cell_type": "code",
      "metadata": {
        "id": "OfMxGr1NKCq1",
        "colab_type": "code",
        "colab": {}
      },
      "source": [
        "from sklearn.datasets import load_breast_cancer\n",
        "cancer = load_breast_cancer()"
      ],
      "execution_count": 0,
      "outputs": []
    },
    {
      "cell_type": "code",
      "metadata": {
        "id": "PSbSuzcFLPal",
        "colab_type": "code",
        "colab": {}
      },
      "source": [
        "X_train, X_test, y_train, y_test = train_test_split(cancer.data, cancer.target, \n",
        "                                                   stratify=cancer.target, random_state=42)"
      ],
      "execution_count": 0,
      "outputs": []
    },
    {
      "cell_type": "code",
      "metadata": {
        "id": "Mv6bqtnYL1Zc",
        "colab_type": "code",
        "outputId": "583d1836-086c-4a29-b068-401a76938aa6",
        "colab": {
          "base_uri": "https://localhost:8080/",
          "height": 561
        }
      },
      "source": [
        "chs = [1,100,10,0.01]\n",
        "symbols = ['o', '^', 'v']\n",
        "for ch, symbols in zip(chs, symbols):\n",
        "    label = \"C=\" + str(ch)\n",
        "    logreg = LogisticRegression(solver='lbfgs', max_iter=100000, C=ch).fit(X_train, y_train)\n",
        "    print(\"Training set score: {:.3f}\".format(logreg.score(X_train, y_train)))\n",
        "    print(\"Test set score: {:.3f}\".format(logreg.score(X_test, y_test)), '\\n')\n",
        "    \n",
        "    plt.plot(logreg.coef_.T, symbols, label=label)\n",
        "\n",
        "plt.xticks(range(cancer.data.shape[1]), cancer.feature_names, rotation=90)\n",
        "xlims = plt.xlim()\n",
        "plt.hlines(0, xlims[0], xlims[1])\n",
        "plt.xlim(xlims)\n",
        "plt.ylim(-5, 5)\n",
        "plt.xlabel(\"Feature\")\n",
        "plt.ylabel(\"Coefficient magnitude\")\n",
        "plt.legend()"
      ],
      "execution_count": 42,
      "outputs": [
        {
          "output_type": "stream",
          "text": [
            "Training set score: 0.958\n",
            "Test set score: 0.958 \n",
            "\n",
            "Training set score: 0.981\n",
            "Test set score: 0.965 \n",
            "\n",
            "Training set score: 0.967\n",
            "Test set score: 0.965 \n",
            "\n"
          ],
          "name": "stdout"
        },
        {
          "output_type": "execute_result",
          "data": {
            "text/plain": [
              "<matplotlib.legend.Legend at 0x7f93d2b554a8>"
            ]
          },
          "metadata": {
            "tags": []
          },
          "execution_count": 42
        },
        {
          "output_type": "display_data",
          "data": {
            "image/png": "[encoded data removed]",
            "text/plain": [
              "<Figure size 432x288 with 1 Axes>"
            ]
          },
          "metadata": {
            "tags": []
          }
        }
      ]
    },
    {
      "cell_type": "markdown",
      "metadata": {
        "id": "oWxaRdkmNEEr",
        "colab_type": "text"
      },
      "source": [
        "Linear models for multiclass classification"
      ]
    },
    {
      "cell_type": "code",
      "metadata": {
        "id": "vYVCWYR_NJ_P",
        "colab_type": "code",
        "colab": {}
      },
      "source": [
        "from sklearn.datasets import make_blobs"
      ],
      "execution_count": 0,
      "outputs": []
    },
    {
      "cell_type": "code",
      "metadata": {
        "id": "Jm3ukWfxNX7H",
        "colab_type": "code",
        "outputId": "42b1226c-e846-46e2-be09-187cfb296c8e",
        "colab": {
          "base_uri": "https://localhost:8080/",
          "height": 388
        }
      },
      "source": [
        "X, y = make_blobs(random_state=42)\n",
        "print(X.shape,'   ',y.shape)\n",
        "print(y)\n",
        "c1 = y == 0\n",
        "c2 = y == 1\n",
        "c3 = y == 2\n",
        "plt.scatter(X[c1,0], X[c1,1], c='r')\n",
        "plt.scatter(X[c2,0], X[c2,1], c='b')\n",
        "plt.scatter(X[c3,0], X[c3,1], c='g')\n",
        "plt.xlabel(\"Feature 0\")\n",
        "plt.ylabel(\"Feature 1\")\n",
        "plt.legend([\"Class 0\", \"Class 1\", \"Class 2\"])"
      ],
      "execution_count": 44,
      "outputs": [
        {
          "output_type": "stream",
          "text": [
            "(100, 2)     (100,)\n",
            "[2 1 0 1 2 1 0 1 1 0 0 2 2 0 0 2 2 0 2 2 0 2 2 0 0 0 1 2 2 2 2 1 1 2 0 0 0\n",
            " 0 1 1 2 0 1 0 0 1 2 2 2 1 1 1 0 2 2 2 0 0 1 0 2 1 2 1 2 2 1 2 1 1 1 2 2 0\n",
            " 1 2 1 2 1 1 0 1 0 2 0 0 0 1 0 1 1 1 0 1 0 0 0 1 2 0]\n"
          ],
          "name": "stdout"
        },
        {
          "output_type": "execute_result",
          "data": {
            "text/plain": [
              "<matplotlib.legend.Legend at 0x7f93d2aa4710>"
            ]
          },
          "metadata": {
            "tags": []
          },
          "execution_count": 44
        },
        {
          "output_type": "display_data",
          "data": {
            "image/png": "[encoded data removed]",
            "text/plain": [
              "<Figure size 432x288 with 1 Axes>"
            ]
          },
          "metadata": {
            "tags": []
          }
        }
      ]
    },
    {
      "cell_type": "code",
      "metadata": {
        "id": "p0YAIP7qNjYA",
        "colab_type": "code",
        "outputId": "c0b68630-7e3e-4a1d-9f80-0068d48bd51d",
        "colab": {
          "base_uri": "https://localhost:8080/",
          "height": 51
        }
      },
      "source": [
        "linear_svm = LinearSVC().fit(X,y)\n",
        "print(\"Coefficient shape: \", linear_svm.coef_.shape)\n",
        "print(\"Intercept shape: \", linear_svm.intercept_.shape)"
      ],
      "execution_count": 45,
      "outputs": [
        {
          "output_type": "stream",
          "text": [
            "Coefficient shape:  (3, 2)\n",
            "Intercept shape:  (3,)\n"
          ],
          "name": "stdout"
        }
      ]
    },
    {
      "cell_type": "code",
      "metadata": {
        "id": "tTFUhOjsOYrd",
        "colab_type": "code",
        "outputId": "d193acda-feef-4338-dc50-23e62dd82a7b",
        "colab": {
          "base_uri": "https://localhost:8080/",
          "height": 85
        }
      },
      "source": [
        "print(linear_svm.coef_)\n",
        "print(linear_svm.intercept_)"
      ],
      "execution_count": 46,
      "outputs": [
        {
          "output_type": "stream",
          "text": [
            "[[-0.17492439  0.23140982]\n",
            " [ 0.47621688 -0.06936534]\n",
            " [-0.18914212 -0.20399675]]\n",
            "[-1.07745566  0.13140703 -0.08604813]\n"
          ],
          "name": "stdout"
        }
      ]
    },
    {
      "cell_type": "code",
      "metadata": {
        "id": "pv68rDgbN1O_",
        "colab_type": "code",
        "outputId": "7619017c-33dd-4450-a59b-51b923542009",
        "colab": {
          "base_uri": "https://localhost:8080/",
          "height": 300
        }
      },
      "source": [
        "plt.scatter(X[c1,0], X[c1,1], c='r')\n",
        "plt.scatter(X[c2,0], X[c2,1], c='b')\n",
        "plt.scatter(X[c3,0], X[c3,1], c='g')\n",
        "\n",
        "line = np.linspace(-15, 15)\n",
        "\n",
        "for coef, intercept, color in zip(linear_svm.coef_, linear_svm.intercept_, ['r','b','g']):\n",
        "    plt.plot(line, -(line*coef[0]+intercept)/coef[1], c=color)\n",
        "    \n",
        "plt.ylim(-10, 15)\n",
        "plt.xlim(-10, 8)\n",
        "plt.xlabel(\"Feature 0\")\n",
        "plt.ylabel(\"Feature 1\")\n",
        "plt.legend(['Class 0', 'Class 1', 'Class 2', 'Line class 0', 'Line class 1',\n",
        "            'Line class 2'], loc=(1.01, 0.3))"
      ],
      "execution_count": 47,
      "outputs": [
        {
          "output_type": "execute_result",
          "data": {
            "text/plain": [
              "<matplotlib.legend.Legend at 0x7f93d2a17ef0>"
            ]
          },
          "metadata": {
            "tags": []
          },
          "execution_count": 47
        },
        {
          "output_type": "display_data",
          "data": {
            "image/png": "[encoded data removed]",
            "text/plain": [
              "<Figure size 432x288 with 1 Axes>"
            ]
          },
          "metadata": {
            "tags": []
          }
        }
      ]
    },
    {
      "cell_type": "markdown",
      "metadata": {
        "id": "9QB3m8K8RVL7",
        "colab_type": "text"
      },
      "source": [
        "```\n",
        "y = a*x - b\n",
        "a = -W[0]/W[1]\n",
        "b = I[0]/W[1]\n",
        "```"
      ]
    },
    {
      "cell_type": "code",
      "metadata": {
        "id": "DzKIqw0bN9C8",
        "colab_type": "code",
        "outputId": "f7ed3d28-2320-404b-8c4c-b2652d311938",
        "colab": {
          "base_uri": "https://localhost:8080/",
          "height": 283
        }
      },
      "source": [
        "mglearn.plots.plot_2d_classification(linear_svm, X, fill=True, alpha=0.5)\n",
        "plt.scatter(X[c1,0], X[c1,1], c='r')\n",
        "plt.scatter(X[c2,0], X[c2,1], c='b')\n",
        "plt.scatter(X[c3,0], X[c3,1], c='g')\n",
        "\n",
        "line = np.linspace(-15, 15)\n",
        "for coef, intercept, color in zip(linear_svm.coef_, linear_svm.intercept_, ['r','b','g']):\n",
        "    plt.plot(line, -(line*coef[0]+intercept)/coef[1], c=color)\n",
        "plt.ylim(-10, 15)\n",
        "plt.xlim(-10, 8)\n",
        "plt.xlabel(\"Feature 0\")\n",
        "plt.ylabel(\"Feature 1\")\n",
        "plt.legend(['Class 0', 'Class 1', 'Class 2', 'Line class 0', 'Line class 1',\n",
        "            'Line class 2'], loc=(1.01, 0.3))"
      ],
      "execution_count": 48,
      "outputs": [
        {
          "output_type": "execute_result",
          "data": {
            "text/plain": [
              "<matplotlib.legend.Legend at 0x7f93d29a7550>"
            ]
          },
          "metadata": {
            "tags": []
          },
          "execution_count": 48
        },
        {
          "output_type": "display_data",
          "data": {
            "image/png": "[encoded data removed]",
            "text/plain": [
              "<Figure size 432x288 with 1 Axes>"
            ]
          },
          "metadata": {
            "tags": []
          }
        }
      ]
    },
    {
      "cell_type": "code",
      "metadata": {
        "id": "jid8HRvoRydm",
        "colab_type": "code",
        "colab": {}
      },
      "source": [
        ""
      ],
      "execution_count": 0,
      "outputs": []
    },
    {
      "cell_type": "code",
      "metadata": {
        "id": "Kkhh8b0uMv9N",
        "colab_type": "code",
        "colab": {}
      },
      "source": [
        ""
      ],
      "execution_count": 0,
      "outputs": []
    }
  ]
}