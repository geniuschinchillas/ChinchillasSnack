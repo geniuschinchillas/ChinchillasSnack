{
  "nbformat": 4,
  "nbformat_minor": 0,
  "metadata": {
    "colab": {
      "name": "make_biclusters.ipynb",
      "version": "0.3.2",
      "provenance": [],
      "collapsed_sections": [],
      "include_colab_link": true
    },
    "kernelspec": {
      "name": "python3",
      "display_name": "Python 3"
    }
  },
  "cells": [
    {
      "cell_type": "markdown",
      "metadata": {
        "id": "view-in-github",
        "colab_type": "text"
      },
      "source": [
        "<a href=\"https://colab.research.google.com/github/geniuschinchillas/ChinchillasSnack/blob/master/GenerateData/make_biclusters.ipynb\" target=\"_parent\"><img src=\"https://colab.research.google.com/assets/colab-badge.svg\" alt=\"Open In Colab\"/></a>"
      ]
    },
    {
      "cell_type": "code",
      "metadata": {
        "id": "6d3i7zOusaQ3",
        "colab_type": "code",
        "colab": {}
      },
      "source": [
        "import pandas as pd\n",
        "import numpy as np\n",
        "import matplotlib.pyplot as plt\n",
        "import scipy.stats as stats\n",
        "import math\n",
        "from sklearn.datasets import samples_generator as sg"
      ],
      "execution_count": 0,
      "outputs": []
    },
    {
      "cell_type": "markdown",
      "metadata": {
        "id": "KRx3Hm0l-tFH",
        "colab_type": "text"
      },
      "source": [
        "**make_biclusters**"
      ]
    },
    {
      "cell_type": "code",
      "metadata": {
        "id": "5ZirWz53-ivN",
        "colab_type": "code",
        "colab": {}
      },
      "source": [
        "from sklearn.datasets import make_biclusters"
      ],
      "execution_count": 0,
      "outputs": []
    },
    {
      "cell_type": "code",
      "metadata": {
        "id": "g1LOI-Oh_HcJ",
        "colab_type": "code",
        "colab": {}
      },
      "source": [
        "data, rows, columns = make_biclusters(shape=(10,10),\n",
        "                                      n_clusters=2,\n",
        "                                      noise=2, shuffle=False,\n",
        "                                      random_state=0\n",
        "                                     )"
      ],
      "execution_count": 0,
      "outputs": []
    },
    {
      "cell_type": "code",
      "metadata": {
        "id": "rlNYc2Mf_gD9",
        "colab_type": "code",
        "colab": {
          "base_uri": "https://localhost:8080/",
          "height": 34
        },
        "outputId": "55a53d6b-fcaf-41ef-d63e-49c573d43749"
      },
      "source": [
        "print(data.shape)"
      ],
      "execution_count": 6,
      "outputs": [
        {
          "output_type": "stream",
          "text": [
            "(10, 10)\n"
          ],
          "name": "stdout"
        }
      ]
    },
    {
      "cell_type": "code",
      "metadata": {
        "id": "-yOtcfVb_om2",
        "colab_type": "code",
        "colab": {
          "base_uri": "https://localhost:8080/",
          "height": 51
        },
        "outputId": "8d8ee1ce-6516-4f17-d698-247980e41973"
      },
      "source": [
        "print('Len of rows: ', len(rows))\n",
        "print('Len of columns: ', len(columns))"
      ],
      "execution_count": 7,
      "outputs": [
        {
          "output_type": "stream",
          "text": [
            "Len of rows:  2\n",
            "Len of columns:  2\n"
          ],
          "name": "stdout"
        }
      ]
    },
    {
      "cell_type": "code",
      "metadata": {
        "id": "C1zPSWW4_4f9",
        "colab_type": "code",
        "colab": {
          "base_uri": "https://localhost:8080/",
          "height": 527
        },
        "outputId": "b372e47a-9ca6-4f83-96b6-13fe9dafc710"
      },
      "source": [
        "print(data)"
      ],
      "execution_count": 8,
      "outputs": [
        {
          "output_type": "stream",
          "text": [
            "[[ 6.31283313e+01  5.74386596e+01  6.12933922e+01  5.90905009e+01\n",
            "   5.91867776e+01  8.21197004e-01  2.88087142e-01  2.90854701e+00\n",
            "   1.52207545e+00  2.43350033e-01]\n",
            " [ 6.02809418e+01  6.00605640e+01  6.23813735e+01  5.89828988e+01\n",
            "   6.00193508e+01 -1.70819148e+00 -5.10597963e+00  1.30723719e+00\n",
            "   1.72887240e+00 -1.48433004e+00]\n",
            " [ 6.39327246e+01  5.64844840e+01  5.94847324e+01  5.90188477e+01\n",
            "   6.24587738e+01  2.93871754e+00  3.09894851e-01  7.56325039e-01\n",
            "  -1.77557150e+00 -3.96159294e+00]\n",
            " [ 5.86973911e+01  5.97059133e+01  6.18537967e+01  6.17979751e+01\n",
            "   5.86185617e+01 -6.04605501e-01 -2.09710593e+00 -2.84003587e+00\n",
            "  -3.41254038e+00  3.90155079e+00]\n",
            " [ 5.83739110e+01  5.85170668e+01  5.68876246e+01  6.09481961e+01\n",
            "   5.61654197e+01 -4.25480560e-01 -1.79093312e+00  7.73804996e-01\n",
            "  -1.02161028e+00 -2.36126437e+00]\n",
            " [-5.63644567e-02  8.56663741e-01  1.33034445e-01  6.04943795e-01\n",
            "  -1.26864419e+00  7.36415606e+01  7.30221221e+01  7.36479367e+01\n",
            "   7.27407504e+01  7.09144778e+01]\n",
            " [ 3.54852285e-01 -8.03561872e-01 -3.26039669e+00  9.25564511e-01\n",
            "  -1.81459673e+00  7.44709338e+01  7.58252241e+01  7.46250088e+01\n",
            "   7.66458443e+01  7.18973913e+01]\n",
            " [ 8.04683282e-01 -1.36962018e+00 -1.74159430e+00 -1.15769933e+00\n",
            "  -6.23105064e-01  7.44793737e+01  7.20367433e+01  7.61686959e+01\n",
            "   7.52983679e+01  7.12945556e+01]\n",
            " [ 2.97650439e+00  3.79177835e+00  2.35755914e+00 -3.59849672e-01\n",
            "  -2.14150524e+00  7.64759464e+01  7.35606891e+01  7.68119331e+01\n",
            "   7.47835929e+01  7.63203210e+01]\n",
            " [ 7.12732794e-01  1.41314634e+00  2.10000414e-02  3.57174099e+00\n",
            "   2.53824185e-01  7.51710217e+01  7.81333444e+01  7.16715249e+01\n",
            "   7.18260730e+01  7.63058364e+01]]\n"
          ],
          "name": "stdout"
        }
      ]
    },
    {
      "cell_type": "code",
      "metadata": {
        "id": "jOe1-3eG_6py",
        "colab_type": "code",
        "colab": {}
      },
      "source": [
        ""
      ],
      "execution_count": 0,
      "outputs": []
    }
  ]
}